{
 "cells": [
  {
   "cell_type": "markdown",
   "metadata": {},
   "source": [
    "<img src=\"./images/banner1.png\" width=\"800\">"
   ]
  },
  {
   "cell_type": "markdown",
   "metadata": {},
   "source": [
    "# Early Programming"
   ]
  },
  {
   "cell_type": "markdown",
   "metadata": {},
   "source": [
    "Programming languages are the means by which humans communicate instructions to computers. They serve as the foundation for writing software and creating applications that can perform a wide range of tasks. Each programming language has its own unique syntax, rules, and capabilities, making it suitable for specific purposes.\n"
   ]
  },
  {
   "cell_type": "markdown",
   "metadata": {},
   "source": [
    "In the world of technology and computer science, understanding the origins of programming is essential to grasp the foundations of this ever-evolving field. Programming, at its core, is the art of giving instructions to a computer, enabling it to perform specific tasks and solve complex problems. To truly appreciate the programming languages and tools we have today, it is crucial to explore the early stages of programming and the first programming languages that laid the groundwork for what we now take for granted."
   ]
  },
  {
   "cell_type": "markdown",
   "metadata": {},
   "source": [
    "Watch this episode of the Computer Science Crash Course YouTube playlist for an insightful exploration into the pioneers and milestones that shaped the field. Discover the foundations behind the programming languages we use today:"
   ]
  },
  {
   "cell_type": "markdown",
   "metadata": {},
   "source": [
    "<img src=\"../../images/youtube.png\" width=\"20\"/> Watch [Early Programming](https://www.youtube.com/watch?v=nwDq4adJwzM&list=PL8dPuuaLjXtNlUrzyH5r6jN9ulIgZBpdo&index=11)\n",
    "\n",
    "\n",
    "💡 Summary\n",
    "- Early computers relied on plug boards and physical wiring, making programming complex and time-consuming.\n",
    "- Punch cards were used to input and output data in early computers.\n",
    "- The development of electronic memory in the late 1940s and 1950s led to stored-program computers and the von Neumann architecture.\n",
    "- Punch cards were commonly used to load programming data into computers until electronic memory became feasible.\n",
    "- Panel programming, which involved switches and control panels, was another method used for programming early computers.\n",
    "- Early home computers, like the Altair 8800, relied on switches for programming.\n",
    "- Programming languages emerged as a simpler way to write programs, marking a significant advancement in computer programming.\n",
    "- The passage emphasizes the complexity and expertise required for early computer programming.\n",
    "- Punch cards and punched paper tape were important data storage methods in the early days of computing.\n",
    "- The passage hints at more advanced data storage technologies like hard drives, CDs, DVDs, and USB thumb drives.\n",
    "- The next episode will delve into programming languages and their role in simplifying the programming process.\n"
   ]
  },
  {
   "cell_type": "markdown",
   "metadata": {},
   "source": [
    "# Programming Languages\n"
   ]
  },
  {
   "cell_type": "markdown",
   "metadata": {},
   "source": [
    "The world of programming languages has evolved significantly since the birth of computing. In this introduction, we will embark on a journey through the timeline of programming languages, exploring their earliest origins and highlighting key milestones along the way. Starting in the 1950s, with languages like Fortran and LISP, which paved the way for scientific and artificial intelligence programming, we'll witness the emergence of influential languages such as COBOL, BASIC, and C in the following decades. As we progress through the years, we'll encounter the advent of object-oriented programming with languages like C++ and Java, and witness the rise of modern web development with scripting languages like JavaScript and Python. Join us as we unravel the fascinating history of programming languages."
   ]
  },
  {
   "cell_type": "markdown",
   "metadata": {},
   "source": [
    "**Table of contents**<a id='toc0_'></a>    \n",
    "- [The First Programming Languages](#toc1_)    \n",
    "- [Types of Programming Languages](#toc2_)    \n",
    "- [Strengths and Applications](#toc3_)    \n",
    "- [Considerations for Choosing a Programming Language](#toc4_)    \n",
    "- [Learning a Programming Language](#toc5_)    \n",
    "- [The Evolution of Programming Languages](#toc6_)    \n",
    "\n",
    "<!-- vscode-jupyter-toc-config\n",
    "\tnumbering=false\n",
    "\tanchor=true\n",
    "\tflat=false\n",
    "\tminLevel=2\n",
    "\tmaxLevel=6\n",
    "\t/vscode-jupyter-toc-config -->\n",
    "<!-- THIS CELL WILL BE REPLACED ON TOC UPDATE. DO NOT WRITE YOUR TEXT IN THIS CELL -->"
   ]
  },
  {
   "cell_type": "markdown",
   "metadata": {},
   "source": [
    "## <a id='toc1_'></a>[The First Programming Languages](#toc0_)"
   ]
  },
  {
   "cell_type": "markdown",
   "metadata": {},
   "source": [
    "\n",
    "Here is a timeline showcasing the development of some notable programming languages over the years:\n"
   ]
  },
  {
   "cell_type": "markdown",
   "metadata": {},
   "source": [
    "<img src=\"../../images/youtube.png\" width=\"20\"/> Watch [The First Programming Languages](https://www.youtube.com/watch?v=RU1u-js7db8&list=PL8dPuuaLjXtNlUrzyH5r6jN9ulIgZBpdo&index=12)\n",
    "\n",
    "\n",
    "💡 Summary\n",
    "- The video discusses the concept of software and its significance in computer programming.\n",
    "- It explains machine code and assembly languages as low-level programming languages closely tied to hardware.\n",
    "- The role of assemblers in converting assembly instructions into machine code is described.\n",
    "- Grace Hopper's contribution to high-level programming languages and the development of the first compiler, A-0, are mentioned.\n",
    "- The emergence of FORTRAN as a popular high-level programming language and its impact on simplifying programming is highlighted.\n",
    "- The formation of the Committee on Data Systems Languages and the creation of COBOL as a standardized language for different computers are emphasized.\n",
    "- The idea of \"write once, run anywhere\" in programming languages is explained.\n",
    "- The passage provides an overview of the evolution of programming languages, including ALGOL, LISP, and modern languages like Python and Swift.\n",
    "- The potential future of programming languages, such as the use of natural language, is discussed.\n",
    "- The importance of programming languages in enabling people from various fields to incorporate computation into their work is underscored.\n"
   ]
  },
  {
   "cell_type": "markdown",
   "metadata": {},
   "source": [
    "<img src=\"./images/programming-languages-timeline.webp\" width=\"600\">"
   ]
  },
  {
   "cell_type": "markdown",
   "metadata": {},
   "source": [
    "Please note that the timeline of programming languages provided in the table is not exhaustive and only showcases a selection of notable languages throughout history."
   ]
  },
  {
   "cell_type": "markdown",
   "metadata": {},
   "source": [
    "<img src=\"../../images/youtube.png\" width=\"20\"/> Watch [Most Popular Programming Languages 1965 - 2022](https://www.youtube.com/watch?v=qQXXI5QFUfw&t=8s)"
   ]
  },
  {
   "cell_type": "markdown",
   "metadata": {},
   "source": [
    "## <a id='toc2_'></a>[Types of Programming Languages](#toc0_)\n"
   ]
  },
  {
   "cell_type": "markdown",
   "metadata": {},
   "source": [
    "Programming languages can be categorized into various types, including high-level languages, low-level languages, scripting languages, and domain-specific languages. High-level languages, such as Python, Java, and C++, are designed to be more human-readable and provide abstractions that simplify the process of coding. Low-level languages, like assembly or machine code, offer more direct control over computer hardware but are less accessible to human programmers.\n"
   ]
  },
  {
   "cell_type": "markdown",
   "metadata": {},
   "source": [
    "<img src=\"./images/assembly.jpeg\" width=\"400\">"
   ]
  },
  {
   "cell_type": "markdown",
   "metadata": {},
   "source": [
    "<img src=\"./images/languages-types.png\" width=\"400\">"
   ]
  },
  {
   "cell_type": "markdown",
   "metadata": {},
   "source": [
    "## <a id='toc3_'></a>[Strengths and Applications](#toc0_)\n"
   ]
  },
  {
   "cell_type": "markdown",
   "metadata": {},
   "source": [
    "Different programming languages have different strengths and areas of application. Some languages are optimized for web development, while others excel in scientific computing, data analysis, or artificial intelligence. For example, Python is widely used for web development, scientific computing, and machine learning due to its simplicity, versatility, and extensive libraries.\n"
   ]
  },
  {
   "cell_type": "markdown",
   "metadata": {},
   "source": [
    "<img src=\"./images/programming-languages.png\" width=\"400\">"
   ]
  },
  {
   "cell_type": "markdown",
   "metadata": {},
   "source": [
    "## <a id='toc4_'></a>[Considerations for Choosing a Programming Language](#toc0_)\n"
   ]
  },
  {
   "cell_type": "markdown",
   "metadata": {},
   "source": [
    "When choosing a programming language, it is crucial to consider factors such as the nature of the project, the target platform or environment, the availability of resources and community support, and personal preferences or familiarity. Each language comes with its own trade-offs in terms of performance, development time, and scalability.\n"
   ]
  },
  {
   "cell_type": "markdown",
   "metadata": {},
   "source": [
    "## <a id='toc5_'></a>[Learning a Programming Language](#toc0_)\n"
   ]
  },
  {
   "cell_type": "markdown",
   "metadata": {},
   "source": [
    "Learning a programming language involves understanding its syntax, semantics, and best practices. It requires grasping fundamental programming concepts such as variables, data types, control structures, functions, and object-oriented programming principles. While the learning curve for each language may vary, many beginners find high-level languages like Python to be more approachable and beginner-friendly due to their clear syntax and extensive documentation.\n"
   ]
  },
  {
   "cell_type": "markdown",
   "metadata": {},
   "source": [
    "<img src=\"./images/learning-programming-tips.png\" width=\"400\">"
   ]
  },
  {
   "cell_type": "markdown",
   "metadata": {},
   "source": [
    "## <a id='toc6_'></a>[The Evolution of Programming Languages](#toc0_)\n"
   ]
  },
  {
   "cell_type": "markdown",
   "metadata": {},
   "source": [
    "The programming landscape is constantly evolving, with new languages and frameworks emerging to address specific needs and improve efficiency. Understanding the history and evolution of programming languages provides insights into the progression of programming concepts and the influence of different paradigms.\n"
   ]
  },
  {
   "cell_type": "markdown",
   "metadata": {},
   "source": [
    "\n",
    "In the following sections, we will explore the features and applications of Python, a popular programming language known for its simplicity, versatility, and vibrant community support. We will also discuss the factors that make Python an attractive choice for both beginners and experienced programmers.\n"
   ]
  },
  {
   "cell_type": "markdown",
   "metadata": {},
   "source": []
  }
 ],
 "metadata": {
  "kernelspec": {
   "display_name": "RAISE",
   "language": "python",
   "name": "python3"
  },
  "language_info": {
   "codemirror_mode": {
    "name": "ipython",
    "version": 3
   },
   "file_extension": ".py",
   "mimetype": "text/x-python",
   "name": "python",
   "nbconvert_exporter": "python",
   "pygments_lexer": "ipython3",
   "version": "3.11.7"
  }
 },
 "nbformat": 4,
 "nbformat_minor": 2
}
