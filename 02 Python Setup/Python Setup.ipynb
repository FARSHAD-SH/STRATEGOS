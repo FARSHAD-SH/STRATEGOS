{
 "cells": [
  {
   "attachments": {},
   "cell_type": "markdown",
   "metadata": {},
   "source": [
    "<img src=\"./images/banner2.png\" width=\"800\">"
   ]
  },
  {
   "cell_type": "markdown",
   "metadata": {},
   "source": [
    "# Introduction to Python Development Environment\n"
   ]
  },
  {
   "attachments": {},
   "cell_type": "markdown",
   "metadata": {},
   "source": [
    "In this section, we will provide an overview of the Python development environment and discuss the benefits of using VS Code, Jupyter Notebook, and Conda together. Understanding the tools and their advantages will set the foundation for a seamless Python development experience.\n"
   ]
  },
  {
   "cell_type": "markdown",
   "metadata": {},
   "source": [
    "**Table of contents**<a id='toc0_'></a>    \n",
    "- [Python Development Environment](#toc1_)    \n",
    "- [VS Code (Visual Studio Code)](#toc2_)    \n",
    "- [Jupyter Notebook](#toc3_)    \n",
    "- [Conda](#toc4_)    \n",
    "- [Benefits of using VS Code, Jupyter Notebook, and Conda together](#toc5_)    \n",
    "\n",
    "<!-- vscode-jupyter-toc-config\n",
    "\tnumbering=false\n",
    "\tanchor=true\n",
    "\tflat=false\n",
    "\tminLevel=2\n",
    "\tmaxLevel=6\n",
    "\t/vscode-jupyter-toc-config -->\n",
    "<!-- THIS CELL WILL BE REPLACED ON TOC UPDATE. DO NOT WRITE YOUR TEXT IN THIS CELL -->"
   ]
  },
  {
   "cell_type": "markdown",
   "metadata": {},
   "source": [
    "## <a id='toc1_'></a>[Python Development Environment](#toc0_)\n"
   ]
  },
  {
   "cell_type": "markdown",
   "metadata": {},
   "source": [
    "The Python development environment refers to the set of tools and software configurations required to write, run, debug, and manage Python code efficiently. It encompasses text editors or integrated development environments (IDEs), package managers, and other supporting tools that enhance the development workflow.\n"
   ]
  },
  {
   "cell_type": "markdown",
   "metadata": {},
   "source": [
    "## <a id='toc2_'></a>[VS Code (Visual Studio Code)](#toc0_)\n"
   ]
  },
  {
   "attachments": {},
   "cell_type": "markdown",
   "metadata": {},
   "source": [
    "<img src=\"./images/python-vscode.png\" width=\"600\">"
   ]
  },
  {
   "cell_type": "markdown",
   "metadata": {},
   "source": [
    "VS Code is a lightweight and highly customizable code editor developed by Microsoft. It offers robust features for Python development, including syntax highlighting, code completion, debugging support, version control integration, and extensibility through a wide range of extensions.\n"
   ]
  },
  {
   "cell_type": "markdown",
   "metadata": {},
   "source": [
    "## <a id='toc3_'></a>[Jupyter Notebook](#toc0_)\n"
   ]
  },
  {
   "attachments": {},
   "cell_type": "markdown",
   "metadata": {},
   "source": [
    "<img src=\"./images/notebook-vscode.png\" width=\"600\">"
   ]
  },
  {
   "attachments": {},
   "cell_type": "markdown",
   "metadata": {},
   "source": [
    "Jupyter Notebook is an interactive computing environment that allows users to create and share documents containing live code, visualizations, explanatory text, and more. It is particularly useful for data analysis, exploratory programming, and documentation purposes.\n",
    "\n",
    "> Note: To enhance the functionality of VS Code for Jupyter Notebook development, we will be utilizing the Jupyter Notebook extension. This extension enables seamless integration between VS Code and Jupyter Notebook, allowing you to create, edit, and run Jupyter notebooks directly within the editor. It provides features such as cell execution, interactive outputs, and markdown rendering, making it a powerful tool for data analysis and prototyping."
   ]
  },
  {
   "cell_type": "markdown",
   "metadata": {},
   "source": [
    "## <a id='toc4_'></a>[Conda](#toc0_)\n"
   ]
  },
  {
   "attachments": {},
   "cell_type": "markdown",
   "metadata": {},
   "source": [
    "<img src=\"./images/conda-python.jpg\" width=\"500\">"
   ]
  },
  {
   "cell_type": "markdown",
   "metadata": {},
   "source": [
    "Conda is a popular package manager and environment management system for Python and other programming languages. It simplifies the process of installing, managing, and organizing packages and dependencies within isolated environments, ensuring reproducibility and avoiding conflicts between different projects.\n"
   ]
  },
  {
   "cell_type": "markdown",
   "metadata": {},
   "source": [
    "## <a id='toc5_'></a>[Benefits of using VS Code, Jupyter Notebook, and Conda together](#toc0_)\n"
   ]
  },
  {
   "attachments": {},
   "cell_type": "markdown",
   "metadata": {},
   "source": [
    "1. **Seamless integration**: VS Code provides a powerful and user-friendly interface for editing Python code, while Jupyter Notebook offers a versatile environment for interactive development and data analysis. Conda serves as a reliable package manager to install and manage Python packages within isolated environments, ensuring consistent and reproducible setups.\n"
   ]
  },
  {
   "attachments": {},
   "cell_type": "markdown",
   "metadata": {},
   "source": [
    "2. **Enhanced productivity**: VS Code's rich features, such as code snippets, intelligent autocompletion, and integrated debugging, significantly enhance the productivity of Python developers. Jupyter Notebook's interactive nature allows for rapid prototyping and iterative development, making it well-suited for data exploration and experimentation.\n"
   ]
  },
  {
   "attachments": {},
   "cell_type": "markdown",
   "metadata": {},
   "source": [
    "3. **Flexible collaboration**: Both VS Code and Jupyter Notebook facilitate collaboration among developers and data scientists. VS Code supports version control integration, allowing for smooth collaboration using Git or other source control systems. Jupyter Notebook files can be easily shared and viewed, enabling effective collaboration and documentation of data analysis workflows.\n"
   ]
  },
  {
   "attachments": {},
   "cell_type": "markdown",
   "metadata": {},
   "source": [
    "4. **Scalability and reproducibility**: Conda provides a scalable environment management system, allowing you to create and manage isolated environments with specific package versions and dependencies. This ensures reproducibility across different machines and simplifies the deployment process.\n"
   ]
  },
  {
   "cell_type": "markdown",
   "metadata": {},
   "source": [
    "By leveraging the capabilities of VS Code, Jupyter Notebook, and Conda, you can create a powerful and efficient Python development environment tailored to your specific needs. In the following sections, we will guide you through the installation and setup process, enabling you to harness the full potential of these tools for your Python projects."
   ]
  },
  {
   "attachments": {},
   "cell_type": "markdown",
   "metadata": {},
   "source": [
    "# Operating Systems and Terminal Setup"
   ]
  },
  {
   "attachments": {},
   "cell_type": "markdown",
   "metadata": {},
   "source": [
    "In this section, we will explore different operating systems and their compatibility with Python and data science. Understanding the basics of operating systems is essential for setting up your Python development environment and utilizing the terminal effectively. We will cover the three major operating systems: macOS, Linux, and Windows, including the Windows Subsystem for Linux (WSL). Let's dive in!\n"
   ]
  },
  {
   "cell_type": "markdown",
   "metadata": {},
   "source": [
    "\n",
    "An operating system (OS) is the software that manages computer hardware and software resources and provides common services for computer programs. The choice of operating system impacts your Python setup and the availability of specific tools and libraries for data science.\n"
   ]
  },
  {
   "cell_type": "markdown",
   "metadata": {},
   "source": [
    "**Table of contents**<a id='toc0_'></a>    \n",
    "- [macOS](#toc1_1_)    \n",
    "- [Linux](#toc2_)    \n",
    "- [Windows and Windows Subsystem for Linux (WSL)](#toc3_)    \n",
    "- [Accessing the Terminal](#toc4_)    \n",
    "  - [macOS](#toc4_1_)    \n",
    "  - [Linux](#toc4_2_)    \n",
    "  - [Windows Subsystem for Linux (WSL)](#toc4_3_)    \n",
    "\n",
    "<!-- vscode-jupyter-toc-config\n",
    "\tnumbering=false\n",
    "\tanchor=true\n",
    "\tflat=false\n",
    "\tminLevel=2\n",
    "\tmaxLevel=6\n",
    "\t/vscode-jupyter-toc-config -->\n",
    "<!-- THIS CELL WILL BE REPLACED ON TOC UPDATE. DO NOT WRITE YOUR TEXT IN THIS CELL -->"
   ]
  },
  {
   "cell_type": "markdown",
   "metadata": {},
   "source": [
    "\n",
    "### <a id='toc1_1_'></a>[macOS](#toc0_)\n"
   ]
  },
  {
   "attachments": {},
   "cell_type": "markdown",
   "metadata": {},
   "source": [
    "<img src=\"./images/os-mac.jpg\" width=\"500\">"
   ]
  },
  {
   "cell_type": "markdown",
   "metadata": {},
   "source": [
    "\n",
    "macOS is the operating system designed for Apple's Macintosh computers. It is known for its user-friendly interface, stability, and compatibility with a wide range of software. macOS comes with a built-in terminal application called Terminal, which provides access to the Unix-based command-line interface (CLI).\n"
   ]
  },
  {
   "cell_type": "markdown",
   "metadata": {},
   "source": [
    "\n",
    "Benefits of macOS for Data Science:\n",
    "- Native support for Unix-based tools and libraries.\n",
    "- Integration with Xcode, a development environment that includes compilers and debugging tools.\n",
    "- Seamless compatibility with other Apple devices and software.\n"
   ]
  },
  {
   "cell_type": "markdown",
   "metadata": {},
   "source": [
    "\n",
    "## <a id='toc2_'></a>[Linux](#toc0_)\n"
   ]
  },
  {
   "attachments": {},
   "cell_type": "markdown",
   "metadata": {},
   "source": [
    "<img src=\"./images/os-ubuntu.webp\" width=\"500\">"
   ]
  },
  {
   "attachments": {},
   "cell_type": "markdown",
   "metadata": {},
   "source": [
    "Linux is a popular open-source operating system kernel used by various distributions (distros). For our purposes in data science, we recommend using the Ubuntu distribution. Ubuntu is highly customizable and widely used in scientific and data-intensive applications.\n"
   ]
  },
  {
   "cell_type": "markdown",
   "metadata": {},
   "source": [
    "\n",
    "Benefits of Linux (Ubuntu) for Data Science:\n",
    "- Native support for Unix-based tools and libraries.\n",
    "- Vast community support and a rich ecosystem of software and packages.\n",
    "- Highly customizable and lightweight, allowing for optimized performance.\n",
    "- Availability of specialized distributions for data science, such as Anaconda and Ubuntu Data Science Remix.\n"
   ]
  },
  {
   "cell_type": "markdown",
   "metadata": {},
   "source": [
    "\n",
    "## <a id='toc3_'></a>[Windows and Windows Subsystem for Linux (WSL)](#toc0_)\n"
   ]
  },
  {
   "attachments": {},
   "cell_type": "markdown",
   "metadata": {},
   "source": [
    "<img src=\"./images/os-wsl.webp\" width=\"500\">"
   ]
  },
  {
   "cell_type": "markdown",
   "metadata": {},
   "source": [
    "\n",
    "Windows is a widely used operating system developed by Microsoft. While Windows does not have native Unix-like functionality, it offers the Windows Subsystem for Linux (WSL), which allows you to run a Linux distribution within Windows. WSL provides access to a Linux shell and allows you to run Unix-based tools and applications seamlessly.\n"
   ]
  },
  {
   "cell_type": "markdown",
   "metadata": {},
   "source": [
    "\n",
    "Benefits of Windows and WSL for Data Science:\n",
    "- Familiar Windows interface with access to a Linux environment.\n",
    "- Ability to run Unix-based tools and libraries natively through WSL.\n",
    "- Seamless integration with Windows software and applications.\n"
   ]
  },
  {
   "cell_type": "markdown",
   "metadata": {},
   "source": [
    "\n",
    "## <a id='toc4_'></a>[Accessing the Terminal](#toc0_)\n"
   ]
  },
  {
   "attachments": {},
   "cell_type": "markdown",
   "metadata": {},
   "source": [
    "The terminal or command line interface is a powerful tool for executing commands and running scripts. Here are the steps to access the terminal on each operating system:\n"
   ]
  },
  {
   "cell_type": "markdown",
   "metadata": {},
   "source": [
    "\n",
    "### <a id='toc4_1_'></a>[macOS](#toc0_)\n"
   ]
  },
  {
   "attachments": {},
   "cell_type": "markdown",
   "metadata": {},
   "source": [
    "<img src=\"./images/terminal-mac.png\" width=\"500\">"
   ]
  },
  {
   "cell_type": "markdown",
   "metadata": {},
   "source": [
    "\n",
    "To open the Terminal on macOS:\n",
    "1. Press `Command + Space` to open Spotlight Search.\n",
    "2. Type \"Terminal\" and press Enter.\n"
   ]
  },
  {
   "cell_type": "markdown",
   "metadata": {},
   "source": [
    "\n",
    "### <a id='toc4_2_'></a>[Linux](#toc0_)\n"
   ]
  },
  {
   "attachments": {},
   "cell_type": "markdown",
   "metadata": {},
   "source": [
    "<img src=\"./images/terminal-ubuntu.png\" width=\"500\">"
   ]
  },
  {
   "cell_type": "markdown",
   "metadata": {},
   "source": [
    "\n",
    "To open the terminal on Linux:\n",
    "1. Use the shortcut `Ctrl + Alt + T` to open the terminal.\n",
    "2. Alternatively, you can find the terminal application in the Applications or System menu.\n"
   ]
  },
  {
   "cell_type": "markdown",
   "metadata": {},
   "source": [
    "\n",
    "### <a id='toc4_3_'></a>[Windows Subsystem for Linux (WSL)](#toc0_)\n"
   ]
  },
  {
   "attachments": {},
   "cell_type": "markdown",
   "metadata": {},
   "source": [
    "<img src=\"./images/terminal-wsl.png\" width=\"500\">"
   ]
  },
  {
   "attachments": {},
   "cell_type": "markdown",
   "metadata": {},
   "source": [
    "Step 1: Check System Requirements\n",
    "Ensure that your Windows system meets the following requirements:\n",
    "- Windows 10 version 1903 or higher, with the Windows Subsystem for Linux feature enabled.\n",
    "- A 64-bit version of Windows.\n",
    "- Sufficient system resources to allocate to the Linux environment."
   ]
  },
  {
   "attachments": {},
   "cell_type": "markdown",
   "metadata": {},
   "source": [
    "Step 2: Open Command Prompt or PowerShell as Administrator\n",
    "To start the installation process, you need to open Command Prompt or PowerShell as an administrator. Here's how:\n",
    "- Open the Start menu.\n",
    "- Search for \"Command Prompt\" or \"PowerShell.\"\n",
    "- Right-click on the relevant result and choose \"Run as administrator.\""
   ]
  },
  {
   "attachments": {},
   "cell_type": "markdown",
   "metadata": {},
   "source": [
    "Step 3: Run `wsl --install`\n",
    "With the elevated Command Prompt or PowerShell open, you can now initiate the WSL installation using the `wsl --install` command. This command will automate the installation process for you, including enabling the necessary features and downloading a Linux distribution from the Microsoft Store. Follow these steps:\n",
    "- In the Command Prompt or PowerShell window, type `wsl --install`.\n",
    "- Press Enter to execute the command."
   ]
  },
  {
   "attachments": {},
   "cell_type": "markdown",
   "metadata": {},
   "source": [
    "Step 4: Wait for the Installation to Complete\n",
    "The `wsl --install` command will trigger the installation process, which may take a few minutes to complete. During this time, the command will automatically enable the required features, download the chosen Linux distribution, and configure the environment."
   ]
  },
  {
   "attachments": {},
   "cell_type": "markdown",
   "metadata": {},
   "source": [
    "Step 5: Create a Username and Password\n",
    "After the installation finishes, you will be prompted to create a new username and password for your Linux environment. Follow the on-screen instructions to set up your credentials. Remember these details, as they will be required when accessing the Linux terminal."
   ]
  },
  {
   "attachments": {},
   "cell_type": "markdown",
   "metadata": {},
   "source": [
    "Step 6: Launch the Linux Terminal\n",
    "Once the installation is complete, you can launch the Linux terminal and start using the Linux environment. Here's how to do it:\n",
    "- Open the Start menu.\n",
    "- Search for the installed Linux distribution (e.g., \"Ubuntu\").\n",
    "- Select the Linux distribution from the search results to launch the terminal.\n",
    "- Wait for the terminal to initialize, which might take a few moments.\n",
    "- Enter your username and password when prompted.\n",
    "- Start exploring the Linux environment by entering your desired Linux commands.\n",
    "Congratulations! You have successfully enabled Windows Subsystem for Linux and launched the Linux terminal using the wsl --install command. Now you can enjoy the benefits of running Linux applications and tools seamlessly within your Windows environment."
   ]
  },
  {
   "cell_type": "markdown",
   "metadata": {},
   "source": [
    "# How the File System Works in Unix-Based Systems\n",
    "\n",
    "In Unix-based systems (such as Linux and macOS), the file system follows a hierarchical structure. It is organized as a tree-like directory structure, starting from the root directory and branching out into subdirectories."
   ]
  },
  {
   "cell_type": "markdown",
   "metadata": {},
   "source": [
    "**Table of contents**<a id='toc0_'></a>    \n",
    "- [The Root Directory](#toc1_)    \n",
    "- [Directory Structure](#toc2_)    \n",
    "- [Directory Tree Representation](#toc3_)    \n",
    "- [Difference from the Windows File System](#toc4_)    \n",
    "\n",
    "<!-- vscode-jupyter-toc-config\n",
    "\tnumbering=false\n",
    "\tanchor=true\n",
    "\tflat=false\n",
    "\tminLevel=2\n",
    "\tmaxLevel=6\n",
    "\t/vscode-jupyter-toc-config -->\n",
    "<!-- THIS CELL WILL BE REPLACED ON TOC UPDATE. DO NOT WRITE YOUR TEXT IN THIS CELL -->"
   ]
  },
  {
   "cell_type": "markdown",
   "metadata": {},
   "source": [
    "## <a id='toc1_'></a>[The Root Directory](#toc0_)"
   ]
  },
  {
   "cell_type": "markdown",
   "metadata": {},
   "source": [
    "\n",
    "The root directory, denoted by a forward slash (`/`), is the topmost directory in the file system hierarchy. All other directories and files are located within the root directory or its subdirectories. In Unix-based systems, the root directory is the equivalent of the `C:\\` drive in Windows.\n"
   ]
  },
  {
   "cell_type": "markdown",
   "metadata": {},
   "source": [
    "\n",
    "## <a id='toc2_'></a>[Directory Structure](#toc0_)\n"
   ]
  },
  {
   "cell_type": "markdown",
   "metadata": {},
   "source": [
    "<img src=\"./images/unix-file-system.png\" width=\"800\">"
   ]
  },
  {
   "cell_type": "markdown",
   "metadata": {},
   "source": [
    "\n",
    "Unix-based systems have a unified file system structure, where directories and files are represented as nodes in the directory tree. Here is an overview of common directories you may encounter in a Unix-based system:\n",
    "\n",
    "- **`/bin`**: Contains essential executable files (commands) for system boot and basic system functionality.\n",
    "- **`/boot`**: Contains files required for the system boot process, including the kernel, bootloader, and initial RAM disk.\n",
    "- **`/dev`**: Contains device files that represent hardware devices attached to the system, such as disk drives, printers, and terminals.\n",
    "- **`/etc`**: Stores system-wide configuration files, including network settings, user management, and application configurations.\n",
    "- **`/home`**: Each user on the system typically has a dedicated subdirectory within `/home`, where their personal files and settings are stored.\n",
    "- **`/lib`** and **/lib64**: Houses libraries required by the system and various applications.\n",
    "- **`/media`**: Mount point for removable media devices, such as USB drives or external hard disks.\n",
    "- **`/opt`**: Optionally holds software packages installed by the system administrator or third-party software.\n",
    "- **`/proc`**: Virtual file system that provides information about processes, system status, and configuration settings.\n",
    "- **`/root`**: The home directory for the root user (superuser) account.\n",
    "- **`/sbin`**: Contains system administration binaries (commands) used for system maintenance and management.\n",
    "- **`/tmp`**: Temporary directory for storing files that are only needed temporarily. Files in this directory are usually deleted on system reboot.\n",
    "- **`/usr`**: Holds user-related programs, libraries, and documentation. It is often the largest directory in the system.\n",
    "- **`/var`**: Contains variable data files, including log files, system databases, and caches.\n"
   ]
  },
  {
   "cell_type": "markdown",
   "metadata": {},
   "source": [
    "\n",
    "This is just a high-level overview of the directory structure in a Unix-based system. Depending on the specific distribution and configuration, additional directories may exist.\n"
   ]
  },
  {
   "cell_type": "markdown",
   "metadata": {},
   "source": [
    "\n",
    "## <a id='toc3_'></a>[Directory Tree Representation](#toc0_)\n"
   ]
  },
  {
   "cell_type": "markdown",
   "metadata": {},
   "source": [
    "\n",
    "Here's a representation of the directory structure starting from the root directory:\n",
    "```\n",
    "/\n",
    "|-- bin\n",
    "|-- boot\n",
    "|-- dev\n",
    "|-- etc\n",
    "|-- home\n",
    "| |-- user1\n",
    "| |-- user2\n",
    "|-- lib\n",
    "|-- lib64\n",
    "|-- media\n",
    "|-- opt\n",
    "|-- proc\n",
    "|-- root\n",
    "|-- sbin\n",
    "|-- tmp\n",
    "|-- usr\n",
    "|-- var\n",
    "```\n"
   ]
  },
  {
   "cell_type": "markdown",
   "metadata": {},
   "source": [
    "This representation uses \"|\" and \"-\" characters to illustrate the hierarchy of directories. Each \"|\" represents a level of indentation, and each \"-\" represents the connection between directories.\n"
   ]
  },
  {
   "cell_type": "markdown",
   "metadata": {},
   "source": [
    "\n",
    "## <a id='toc4_'></a>[Difference from the Windows File System](#toc0_)\n"
   ]
  },
  {
   "cell_type": "markdown",
   "metadata": {},
   "source": [
    "\n",
    "The Unix-based file system differs from the Windows file system in several ways:\n"
   ]
  },
  {
   "cell_type": "markdown",
   "metadata": {},
   "source": [
    "\n",
    "1. **Path Separator**: Unix-based systems use a forward slash (`/`) as the path separator, while Windows uses a backslash (`\\`).\n",
    "\n",
    "2. **Drive Letters**: Windows assigns drive letters (e.g., C:, D:) to different storage devices, while Unix-based systems have a single unified directory structure starting from the root directory.\n",
    "\n",
    "3. **File Naming Conventions**: Windows is case-insensitive when it comes to file and directory names, while Unix-based systems are case-sensitive.\n",
    "\n",
    "4. **File Permissions**: Unix-based systems use a permission system (read, write, execute) to control access to files and directories, while Windows uses access control lists (ACLs).\n"
   ]
  },
  {
   "cell_type": "markdown",
   "metadata": {},
   "source": [
    "\n",
    "Understanding the Unix-based file system and its differences from Windows will help you navigate and work effectively within the terminal environment.\n"
   ]
  },
  {
   "cell_type": "markdown",
   "metadata": {},
   "source": [
    "\n",
    "Now that we have a good understanding of the file system in Unix-based systems, let's continue exploring the terminal and its commands!\n"
   ]
  },
  {
   "cell_type": "markdown",
   "metadata": {},
   "source": [
    "# Command-Line Crash Course\n"
   ]
  },
  {
   "cell_type": "markdown",
   "metadata": {},
   "source": [
    "**Table of contents**<a id='toc0_'></a>    \n",
    "- [Why is the Terminal Important?](#toc1_)    \n",
    "- [Navigating the File System](#toc2_)    \n",
    "- [Working with Files and Directories](#toc3_)    \n",
    "- [Additional Useful Commands](#toc4_)    \n",
    "- [Tips and Tricks](#toc5_)    \n",
    "\n",
    "<!-- vscode-jupyter-toc-config\n",
    "\tnumbering=false\n",
    "\tanchor=true\n",
    "\tflat=false\n",
    "\tminLevel=2\n",
    "\tmaxLevel=6\n",
    "\t/vscode-jupyter-toc-config -->\n",
    "<!-- THIS CELL WILL BE REPLACED ON TOC UPDATE. DO NOT WRITE YOUR TEXT IN THIS CELL -->"
   ]
  },
  {
   "cell_type": "markdown",
   "metadata": {},
   "source": [
    "In this section, we will explore the terminal, also known as the command-line interface (CLI). The terminal is a powerful tool that allows you to interact with your computer using text-based commands. As a Python developer, understanding and using the terminal is essential for tasks such as running scripts, managing files, and executing various development tools.\n"
   ]
  },
  {
   "cell_type": "markdown",
   "metadata": {},
   "source": [
    "## <a id='toc1_'></a>[Why is the Terminal Important?](#toc0_)\n"
   ]
  },
  {
   "cell_type": "markdown",
   "metadata": {},
   "source": [
    "The terminal offers several advantages for developers:\n",
    "\n",
    "- **Efficiency**: Performing tasks through commands can be faster than using a graphical user interface (GUI) for certain operations.\n",
    "- **Flexibility**: The terminal provides access to a wide range of tools and utilities, allowing you to perform complex operations and customization.\n",
    "- **Automation**: By combining commands and scripting, you can automate repetitive tasks and create powerful workflows.\n"
   ]
  },
  {
   "cell_type": "markdown",
   "metadata": {},
   "source": [
    "## <a id='toc2_'></a>[Navigating the File System](#toc0_)\n"
   ]
  },
  {
   "cell_type": "markdown",
   "metadata": {},
   "source": [
    "Before diving into the terminal commands, let's start with basic navigation. You'll need to understand how to move around the file system to work effectively.\n",
    "\n",
    "- `cd` (change directory) allows you to move between directories.\n",
    "  - Example: `cd Documents` (Moves to the \"Documents\" directory).\n",
    "\n",
    "- `ls` (list) displays the files and directories in the current directory.\n",
    "  - Example: `ls` (Lists files and directories in the current directory).\n",
    "\n",
    "- `pwd` (print working directory) shows the current directory's path.\n",
    "  - Example: `pwd` (Displays the path of the current directory).\n"
   ]
  },
  {
   "cell_type": "markdown",
   "metadata": {},
   "source": [
    "## <a id='toc3_'></a>[Working with Files and Directories](#toc0_)\n"
   ]
  },
  {
   "cell_type": "markdown",
   "metadata": {},
   "source": [
    "Creating, managing, and manipulating files and directories is a fundamental part of working with the terminal.\n",
    "\n",
    "- `mkdir` creates directories.\n",
    "  - Example: `mkdir new_directory` (Creates a new directory named \"new_directory\").\n",
    "\n",
    "- `touch` creates files.\n",
    "  - Example: `touch new_file.txt` (Creates a new file named \"new_file.txt\").\n",
    "\n",
    "- `rm` removes files and directories.\n",
    "  - Example: `rm file.txt` (Removes the file \"file.txt\").\n",
    "\n",
    "- `rmdir` removes empty directories.\n",
    "  - Example: `rmdir empty_directory` (Removes the empty directory \"empty_directory\").\n",
    "\n",
    "- `cp` copies files and directories.\n",
    "  - Example: `cp file.txt copy_file.txt` (Creates a copy of \"file.txt\" named \"copy_file.txt\").\n",
    "\n",
    "- `mv` moves or renames files and directories.\n",
    "  - Example: `mv file.txt new_directory/` (Moves the file \"file.txt\" to the \"new_directory\" directory).\n",
    "  - Example: `mv file.txt renamed_file.txt` (Renames \"file.txt\" to \"renamed_file.txt\").\n"
   ]
  },
  {
   "cell_type": "markdown",
   "metadata": {},
   "source": [
    "## <a id='toc4_'></a>[Additional Useful Commands](#toc0_)\n"
   ]
  },
  {
   "cell_type": "markdown",
   "metadata": {},
   "source": [
    "Besides file management, there are many other handy terminal commands to explore:\n",
    "\n",
    "- `history` shows your command history.\n",
    "  - Example: `history` (Displays a list of recently executed commands).\n",
    "\n",
    "- `clear` clears the terminal screen.\n",
    "  - Example: `clear` (Clears the terminal screen).\n",
    "\n",
    "- `wget` downloads files from the web.\n",
    "  - Example: `wget http://example.com/file.txt` (Downloads \"file.txt\" from the web).\n",
    "\n",
    "- `curl` transfers data to or from a server.\n",
    "  - Example: `curl -o file.txt http://example.com/file.txt` (Downloads \"file.txt\" from the web using cURL).\n"
   ]
  },
  {
   "cell_type": "markdown",
   "metadata": {},
   "source": [
    "## <a id='toc5_'></a>[Tips and Tricks](#toc0_)\n"
   ]
  },
  {
   "cell_type": "markdown",
   "metadata": {},
   "source": [
    "Finally, we'll share some tips and tricks to help you become more efficient and effective in the terminal. These insights can significantly improve your workflow and productivity.\n"
   ]
  },
  {
   "cell_type": "markdown",
   "metadata": {},
   "source": [
    "Remember to practice and experiment with the commands as you learn them. The terminal is a powerful tool, and gaining proficiency will greatly benefit you as a Python developer.\n"
   ]
  },
  {
   "cell_type": "markdown",
   "metadata": {},
   "source": [
    "Now, let's jump in and start exploring the world of terminal commands!"
   ]
  },
  {
   "cell_type": "markdown",
   "metadata": {},
   "source": [
    "# Installing Visual Studio Code (VS Code)\n"
   ]
  },
  {
   "cell_type": "markdown",
   "metadata": {},
   "source": [
    "Visual Studio Code (VS Code) is a popular and versatile code editor that provides excellent support for Python development. Follow the steps below to install and enhance VS Code for Python development:\n"
   ]
  },
  {
   "cell_type": "markdown",
   "metadata": {},
   "source": [
    "**Table of contents**<a id='toc0_'></a>    \n",
    "- [Installing VS Code](#toc1_)    \n",
    "  - [MacOS](#toc1_1_)    \n",
    "  - [Linux](#toc1_2_)    \n",
    "  - [WSL](#toc1_3_)    \n",
    "    - [Open a remote folder or workspace](#toc1_3_1_)    \n",
    "- [How to Launch Visual Studio Code (VSCode) from Terminal](#toc2_)    \n",
    "- [Installing the Jupyter Extension](#toc3_)    \n",
    "\n",
    "<!-- vscode-jupyter-toc-config\n",
    "\tnumbering=false\n",
    "\tanchor=true\n",
    "\tflat=false\n",
    "\tminLevel=2\n",
    "\tmaxLevel=6\n",
    "\t/vscode-jupyter-toc-config -->\n",
    "<!-- THIS CELL WILL BE REPLACED ON TOC UPDATE. DO NOT WRITE YOUR TEXT IN THIS CELL -->"
   ]
  },
  {
   "cell_type": "markdown",
   "metadata": {},
   "source": [
    "## <a id='toc1_'></a>[Installing VS Code](#toc0_)\n"
   ]
  },
  {
   "cell_type": "markdown",
   "metadata": {},
   "source": [
    "### <a id='toc1_1_'></a>[MacOS](#toc0_)"
   ]
  },
  {
   "cell_type": "markdown",
   "metadata": {},
   "source": [
    "1. [Download Visual Studio Code](https://go.microsoft.com/fwlink/?LinkID=534106) for macOS.\n",
    "2. Open the browser's download list and locate the downloaded app or archive.\n",
    "3. If archive, extract the archive contents. Use double-click for some browsers or select the 'magnifying glass' icon with Safari.\n",
    "4. Drag `Visual Studio Code.app` to the Applications folder, making it available in the macOS Launchpad.\n",
    "5. Open VS Code from the Applications folder, by double clicking the icon.\n",
    "6. Add VS Code to your Dock by right-clicking on the icon, located in the Dock, to bring up the context menu and choosing Options, Keep in Dock.\n",
    "\n",
    "For more information, see [Install Visual Studio Code on macOS](https://code.visualstudio.com/docs/setup/mac)."
   ]
  },
  {
   "cell_type": "markdown",
   "metadata": {},
   "source": [
    "To launch VS Code from the terminal, use the following command:\n",
    "\n",
    "```bash\n",
    "code\n",
    "```\n"
   ]
  },
  {
   "cell_type": "markdown",
   "metadata": {},
   "source": [
    "> **Important note for Mac Users:**\n",
    ">\n",
    "> - If the command `code` or `code .` doesn't work in your terminal, open the VS Code from the Applications folder or from Launchpad, then open the Command Palette via ⌘⇧P and type shell command to find the Shell Command:\n",
    "> - Use the Uninstall 'code' command in the PATH command before the \"Install 'code' command in PATH\" command.\n",
    "> - After executing the command, restart the terminal for the new $PATH value to take effect.\n",
    "> - You'll be able to simply type `code .` in any folder to start editing files in that folder. The \".\" Simply means \"current directory\""
   ]
  },
  {
   "cell_type": "markdown",
   "metadata": {},
   "source": [
    "<img src=\"./images/vscode-install-path-mac.png\" width=\"800\">"
   ]
  },
  {
   "cell_type": "markdown",
   "metadata": {},
   "source": [
    "### <a id='toc1_2_'></a>[Linux](#toc0_)"
   ]
  },
  {
   "cell_type": "markdown",
   "metadata": {},
   "source": [
    "For Ubuntu users, you can install vscode using the software center:"
   ]
  },
  {
   "cell_type": "markdown",
   "metadata": {},
   "source": [
    "<img src=\"./images/vscode-install-linux.webp\" width=\"800\">"
   ]
  },
  {
   "cell_type": "markdown",
   "metadata": {},
   "source": [
    "You can also download the `.deb` file from the official website and install it using the command line. The command line installation is as follows:\n",
    "```bash\n",
    "sudo apt install ./<file>.deb\n",
    "\n",
    "# If you're on an older Linux distribution, you will need to run this instead:\n",
    "# sudo dpkg -i <file>.deb\n",
    "# sudo apt-get install -f # Install dependencies\n",
    "```\n",
    "\n",
    "For more information, please refer to the [official website](https://code.visualstudio.com/docs/setup/linux)."
   ]
  },
  {
   "cell_type": "markdown",
   "metadata": {},
   "source": [
    "To launch VS Code from the terminal, use the following command:\n",
    "\n",
    "```bash\n",
    "code\n",
    "```\n"
   ]
  },
  {
   "cell_type": "markdown",
   "metadata": {},
   "source": [
    "### <a id='toc1_3_'></a>[WSL](#toc0_)"
   ]
  },
  {
   "cell_type": "markdown",
   "metadata": {},
   "source": [
    "The Visual Studio Code WSL extension lets you use the Windows Subsystem for Linux (WSL) as your full-time development environment right from VS Code. You can develop in a Linux-based environment, use Linux-specific toolchains and utilities, and run and debug your Linux-based applications all from the comfort of Windows.\n",
    "\n",
    "The extension runs commands and other extensions directly in WSL so you can edit files located in WSL or the mounted Windows filesystem (for example /mnt/c) without worrying about pathing issues, binary compatibility, or other cross-OS challenges."
   ]
  },
  {
   "cell_type": "markdown",
   "metadata": {},
   "source": [
    "<img src=\"./images/vscode-install-wsl.png\" width=\"800\">"
   ]
  },
  {
   "cell_type": "markdown",
   "metadata": {},
   "source": [
    "This lets VS Code provide a local-quality development experience — including full IntelliSense (completions), code navigation, and debugging — regardless of where your code is hosted."
   ]
  },
  {
   "cell_type": "markdown",
   "metadata": {},
   "source": [
    "To get started, you need to:\n",
    "\n",
    "- Install the [Windows Subsystem for Linux](https://learn.microsoft.com/windows/wsl/install) along with your preferred Linux distribution.\n",
    "> **Note:** WSL 1 does have some [known limitations](https://code.visualstudio.com/docs/remote/wsl#_known-limitations) for certain types of development. Also, extensions installed in Alpine Linux may not work due to glibc dependencies in native source code inside the extension. See the [Remote Development and Linux article](https://aka.ms/vscode-remote/linux) for details.\n",
    "- Install [Visual Studio Code](https://code.visualstudio.com/) **on the Windows side (not in WSL)**.\n",
    "> **Note:** When prompted to **Select Additional Tasks** during installation, be sure to check the **Add to PATH** option so you can easily open a folder in WSL using the code command.\n",
    "\n",
    "Install the [WSL extension](https://marketplace.visualstudio.com/items?itemName=ms-vscode-remote.remote-wsl). If you plan to work with other remote extensions in VS Code, you may choose to install the [Remote Development extension pack](https://aka.ms/vscode-remote/download/extension).\n",
    "\n",
    "For more information, please refer to the [official website](https://code.visualstudio.com/docs/remote/wsl).\n"
   ]
  },
  {
   "cell_type": "markdown",
   "metadata": {},
   "source": [
    "#### <a id='toc1_3_1_'></a>[Open a remote folder or workspace](#toc0_)"
   ]
  },
  {
   "cell_type": "markdown",
   "metadata": {},
   "source": [
    "**From the WSL terminal**\n",
    "Opening a folder inside the Windows Subsystem for Linux in VS Code is very similar to opening up a Windows folder from the command prompt or PowerShell.\n",
    "\n",
    "1. Open a WSL terminal window (using the start menu item or by typing wsl from a command prompt or PowerShell).\n",
    "2. Navigate to a folder you'd like to open in VS Code (including, but not limited to, Windows filesystem mounts like `/mnt/c`)\n",
    "3. Type `code .` in the terminal. When doing this for the first time, you should see VS Code fetching components needed to run in WSL. This should only take a short while, and is only needed once.\n",
    "\n",
    "> Note: If this command does not work, you may need to restart your terminal or you may not have added VS Code to your path when it was installed.\n",
    "\n",
    "4. After a moment, a new VS Code window will appear, and you'll see a notification that VS Code is opening the folder in WSL.\n",
    "<img src=\"./images/wsl-starting-notification.png\" width=\"800\">\n",
    "VS Code will now continue to configure itself in WSL and keep you up to date as it makes progress.\n",
    "\n",
    "5. Once finished, you now see a WSL indicator in the bottom left corner, and you'll be able to use VS Code as you would normally!\n",
    "<img src=\"./images/wsl-statusbar-indicator.png\" width=\"300\">\n",
    "\n",
    "That's it! Any VS Code operations you perform in this window will be executed in the WSL environment, everything from editing and file operations, to debugging, using terminals, and more.\n"
   ]
  },
  {
   "cell_type": "markdown",
   "metadata": {},
   "source": [
    "## <a id='toc2_'></a>[How to Launch Visual Studio Code (VSCode) from Terminal](#toc0_)\n",
    "\n",
    "1. **Ensure VSCode is Installed:** First, make sure you have Visual Studio Code installed on your system. If not, download and install it from the official website.\n",
    "\n",
    "2. **Add VSCode to the PATH (Optional):** If VSCode is not added to your system's PATH environment variable, you may need to add it manually. This step allows you to launch VSCode from the terminal without specifying the full installation path.\n",
    "\n",
    "3. **Launch VSCode from Terminal:**\n",
    "   - Open your terminal (Command Prompt on Windows, Terminal on macOS/Linux).\n",
    "   - To open VSCode in the current directory, simply type:\n",
    "     ```\n",
    "     code .\n",
    "     ```\n",
    "   - Press Enter to execute the command, and VSCode will launch, opening the current directory as the workspace.\n",
    "\n",
    "4. **Difference between \"code\" and \"code .\":**\n",
    "   - `code`: When you type `code` in the terminal and press Enter, it will launch Visual Studio Code, but without specifying any directory or file to open. This means VSCode will open with a blank workspace, and you will have to manually open a folder or file from within the VSCode interface.\n",
    "   - `code .`: Adding the dot (`.`) after the `code` command tells VSCode to open the current directory as the workspace. When you use `code .`, VSCode will launch and directly load the contents of the current directory, treating it as the workspace.\n",
    "\n",
    "5. **Opening VSCode in a Directory:**\n",
    "   - Opening VSCode in a directory means setting that directory as the \"workspace\" for the VSCode session. A workspace in VSCode is essentially a project context that allows you to group related files together and configure workspace-specific settings.\n",
    "   - When you open VSCode in a directory, all the files and subdirectories within that directory become part of the workspace, enabling you to work on those files collectively.\n",
    "   - This is helpful when you are working on a specific project because it allows you to access the project's files, manage extensions, and apply specific configurations unique to that project.\n",
    "\n",
    "Remember, opening VSCode in a directory using `code .` in the terminal provides a seamless way to start working on your projects quickly and efficiently.\n"
   ]
  },
  {
   "cell_type": "markdown",
   "metadata": {},
   "source": [
    "## <a id='toc3_'></a>[Installing the Jupyter Extension](#toc0_)\n"
   ]
  },
  {
   "cell_type": "markdown",
   "metadata": {},
   "source": [
    "The Jupyter extension for VS Code allows you to work with Jupyter notebooks directly within the editor. Jupyter notebooks provide an interactive environment for data analysis, visualization, and code experimentation.\n"
   ]
  },
  {
   "cell_type": "markdown",
   "metadata": {},
   "source": [
    "To install the Jupyter extension, follow these steps:\n",
    "\n",
    "1. Open VS Code.\n",
    "2. Click on the \"Extensions\" button in the left sidebar (or press `Ctrl+Shift+X`).\n",
    "3. In the search bar, type \"Jupyter\" and press Enter.\n",
    "4. Look for the \"Jupyter\" extension in the search results.\n",
    "5. Click the \"Install\" button next to the \"Jupyter\" extension to install it.\n"
   ]
  },
  {
   "attachments": {},
   "cell_type": "markdown",
   "metadata": {},
   "source": [
    "<img src=\"./images/vscode-jupyter-ext.png\" width=\"600\">"
   ]
  },
  {
   "cell_type": "markdown",
   "metadata": {},
   "source": [
    "By installing the Jupyter extension, you can take advantage of the interactive capabilities of Jupyter notebooks within the VS Code environment, enhancing your Python development experience.\n"
   ]
  },
  {
   "cell_type": "markdown",
   "metadata": {},
   "source": [
    "With Visual Studio Code installed, launched either through the graphical interface or the terminal, and the Jupyter extension installed, you're all set to start coding in Python and leveraging the power of Jupyter notebooks within the VS Code editor!"
   ]
  },
  {
   "cell_type": "markdown",
   "metadata": {},
   "source": [
    "# Getting Started with Visual Studio Code for Python Development\n"
   ]
  },
  {
   "cell_type": "markdown",
   "metadata": {},
   "source": [
    "In this lecture, we will explore how to work with Visual Studio Code (VS Code) for Python development. VS Code provides an excellent environment for coding in Python, and we will introduce two essential extensions that will elevate your Python development experience. These extensions are all you need for now to get started with productive Python programming in VS Code.\n"
   ]
  },
  {
   "cell_type": "markdown",
   "metadata": {},
   "source": [
    "**Table of contents**<a id='toc0_'></a>    \n",
    "- [Opening VS Code in Different Directories and Files](#toc1_)    \n",
    "- [Interface Tour](#toc2_)    \n",
    "- [Extensions](#toc3_)    \n",
    "  - [Python Extension](#toc3_1_)    \n",
    "  - [Jupyter Extension](#toc3_2_)    \n",
    "- [Basic Editing](#toc4_)    \n",
    "\n",
    "<!-- vscode-jupyter-toc-config\n",
    "\tnumbering=false\n",
    "\tanchor=true\n",
    "\tflat=false\n",
    "\tminLevel=2\n",
    "\tmaxLevel=6\n",
    "\t/vscode-jupyter-toc-config -->\n",
    "<!-- THIS CELL WILL BE REPLACED ON TOC UPDATE. DO NOT WRITE YOUR TEXT IN THIS CELL -->"
   ]
  },
  {
   "cell_type": "markdown",
   "metadata": {},
   "source": [
    "## <a id='toc1_'></a>[Opening VS Code in Different Directories and Files](#toc0_)"
   ]
  },
  {
   "cell_type": "markdown",
   "metadata": {},
   "source": [
    "VS Code's flexibility allows you to open it in various directories or project folders. There are a few ways to achieve this:\n",
    "\n",
    "- **Method 1:** Launch VS Code, and then go to `File -> Open Folder...` or use the keyboard shortcut `Ctrl+K Ctrl+O` (Windows/Linux) or `Cmd+K Cmd+O` (Mac). Browse to the desired directory and click \"Open.\"\n",
    "\n",
    "- **Method 2:** Right-click on the folder you want to open in VS Code in your file explorer, and select \"Open with Code\" (the option may be labeled differently based on your operating system).\n",
    "\n",
    "- **Method 3:** Open the terminal, navigate to the desired directory using the `cd` command, and then type `code .` (including the dot at the end). This command will open VS Code in the current directory.\n"
   ]
  },
  {
   "cell_type": "markdown",
   "metadata": {},
   "source": [
    "Sometimes you may want to work on a single file without opening the entire project. Here's how to open a single file in VS Code:\n",
    "\n",
    "- **Method 1:** Launch VS Code, and then go to `File -> Open...` or use the keyboard shortcut `Ctrl+O` (Windows/Linux) or `Cmd+O` (Mac). Browse to the file you want to open and click \"Open.\"\n",
    "\n",
    "- **Method 2:** In your file explorer, right-click on the file and select \"Open with Code\" (the option may be labeled differently based on your operating system).\n"
   ]
  },
  {
   "cell_type": "markdown",
   "metadata": {},
   "source": [
    "## <a id='toc2_'></a>[Interface Tour](#toc0_)\n"
   ]
  },
  {
   "cell_type": "markdown",
   "metadata": {},
   "source": [
    "Let's begin our journey by getting familiar with the VS Code interface. Upon launching VS Code, you'll notice a clean and straightforward layout designed to maximize productivity. The main components include:\n",
    "- **Editor:** The central area where you write and edit your code. It offers a plethora of functionalities to ease your coding experience.\n",
    "- **Sidebar:** On the left-hand side, you'll find the sidebar with various panels, such as the Explorer for file navigation, Source Control for version control, and Extensions for managing your installed extensions.\n",
    "- **Status Bar:** Situated at the bottom, the status bar displays essential information like the file type, line and column numbers, and indentation settings.\n",
    "- **Command Palette:** Accessible through `Ctrl+Shift+P` (Windows/Linux) or `Cmd+Shift+P` (Mac), the Command Palette allows you to execute commands and access various features with ease.\n"
   ]
  },
  {
   "cell_type": "markdown",
   "metadata": {},
   "source": [
    "## <a id='toc3_'></a>[Extensions](#toc0_)\n"
   ]
  },
  {
   "cell_type": "markdown",
   "metadata": {},
   "source": [
    "One of the most compelling aspects of VS Code is its extensibility. Extensions are add-ons that enhance the editor's capabilities, tailored to different programming languages, frameworks, and development workflows.\n"
   ]
  },
  {
   "cell_type": "markdown",
   "metadata": {},
   "source": [
    "### <a id='toc3_1_'></a>[Python Extension](#toc0_)\n"
   ]
  },
  {
   "cell_type": "markdown",
   "metadata": {},
   "source": [
    "<img src=\"./images/vscode-python-ext.png\" width=\"600\">"
   ]
  },
  {
   "cell_type": "markdown",
   "metadata": {},
   "source": [
    "The Python extension is a must-have for any Python developer using VS Code. It brings powerful Python language support, code linting, debugging, and testing capabilities right to your fingertips. With this extension, you'll benefit from features like:\n",
    "\n",
    "- **IntelliSense for Python:** Enjoy intelligent code completion, which suggests Python keywords, modules, classes, functions, and even your custom-defined objects as you type.\n",
    "- **Code Linting:** Catch potential errors and enforce coding standards using the integrated linter. This helps maintain clean and error-free code.\n",
    "- **Code Formatting:** Keep your code consistent and readable by automatically formatting it according to the PEP 8 style guide.\n",
    "- **Code Navigation:** Easily navigate through your codebase with features like \"Go to Definition\" and \"Find All References.\"\n",
    "- **Interactive Python Experience:** Run Python code interactively within VS Code's integrated terminal.\n"
   ]
  },
  {
   "cell_type": "markdown",
   "metadata": {},
   "source": [
    "### <a id='toc3_2_'></a>[Jupyter Extension](#toc0_)\n"
   ]
  },
  {
   "attachments": {},
   "cell_type": "markdown",
   "metadata": {},
   "source": [
    "<img src=\"./images/vscode-jupyter-ext.png\" width=\"600\">"
   ]
  },
  {
   "cell_type": "markdown",
   "metadata": {},
   "source": [
    "The Jupyter extension is another valuable addition to your Python toolkit in VS Code. It enables seamless integration with Jupyter notebooks, a popular choice for data analysis, visualization, and experimentation. With this extension, you can:\n",
    "\n",
    "- **Open and Edit Notebooks:** Easily create, open, and edit Jupyter notebooks right within the VS Code environment.\n",
    "- **Intelligent Notebook Editing:** Leverage VS Code's IntelliSense and code editing capabilities when working on Jupyter notebooks.\n",
    "- **Kernel Management:** Manage and switch between different Python kernels associated with your Jupyter notebooks.\n",
    "\n",
    "With these extensions installed, you'll have a robust and feature-rich Python development environment.\n"
   ]
  },
  {
   "cell_type": "markdown",
   "metadata": {},
   "source": [
    "## <a id='toc4_'></a>[Basic Editing](#toc0_)\n",
    "\n",
    "Before diving into advanced features, let's master the basics of code editing in VS Code. Open a file by clicking `File -> Open` or using the keyboard shortcut `Ctrl+O` (Windows/Linux) or `Cmd+O` (Mac). Save your changes with `Ctrl+S` (Windows/Linux) or `Cmd+S` (Mac). You can use essential editing commands such as cut, copy, paste, and undo with familiar shortcuts.\n"
   ]
  },
  {
   "cell_type": "markdown",
   "metadata": {},
   "source": [
    "# What is a Package Manager?\n"
   ]
  },
  {
   "cell_type": "markdown",
   "metadata": {},
   "source": [
    "\n",
    "In this section, we will walk you through the process of installing Conda, a popular package manager and environment management system. We recommend using Miniconda, which is a lightweight version of Anaconda. The installation steps provided below will ensure that you have the necessary tools to create and manage Python environments effectively.\n"
   ]
  },
  {
   "cell_type": "markdown",
   "metadata": {},
   "source": [
    "**Table of contents**<a id='toc0_'></a>    \n",
    "- [How Package Managers Work](#toc1_)    \n",
    "- [Scenario: Two People Creating Conda Environments](#toc2_)    \n",
    "- [Benefits of Using a Package Manager](#toc3_)    \n",
    "\n",
    "<!-- vscode-jupyter-toc-config\n",
    "\tnumbering=false\n",
    "\tanchor=true\n",
    "\tflat=false\n",
    "\tminLevel=2\n",
    "\tmaxLevel=6\n",
    "\t/vscode-jupyter-toc-config -->\n",
    "<!-- THIS CELL WILL BE REPLACED ON TOC UPDATE. DO NOT WRITE YOUR TEXT IN THIS CELL -->"
   ]
  },
  {
   "cell_type": "markdown",
   "metadata": {},
   "source": [
    "\n",
    "## <a id='toc1_'></a>[How Package Managers Work](#toc0_)\n"
   ]
  },
  {
   "cell_type": "markdown",
   "metadata": {},
   "source": [
    "When you write Python code, it often relies on external libraries or tools to perform specific tasks, like handling data, plotting graphs, or connecting to databases. These external libraries are called packages. Think of them as ready-to-use modules that extend Python's capabilities and save you time by providing pre-built functionality."
   ]
  },
  {
   "cell_type": "markdown",
   "metadata": {},
   "source": [
    "\n",
    "Now, imagine you're a Python developer working on a project that uses several packages. The challenge arises when different projects might require different versions of the same package or even entirely different sets of packages. If you install all these packages globally on your computer, you may encounter conflicts, where one project needs an older version of a package, while another requires a newer version."
   ]
  },
  {
   "cell_type": "markdown",
   "metadata": {},
   "source": [
    "Here's where environments and package managers come to the rescue:\n",
    "\n",
    "- **Package Versions**: Packages can have multiple versions, each with its own set of features, bug fixes, and changes. However, not all projects may be compatible with the latest versions of packages they rely on. Therefore, it's crucial to manage specific package versions to maintain code stability and prevent unexpected behavior.\n",
    "\n",
    "- **Environment**: An environment is like a self-contained workspace for a Python project. It allows developers to isolate their project from the global Python installation and other projects. This isolation helps avoid conflicts between different projects that might rely on different package versions or have conflicting dependencies.\n",
    "\n",
    "- **Package Manager**: A package manager is a tool that simplifies the process of installing, updating, and removing packages within a specific environment. It keeps track of package versions and ensures that the required packages are available to the project when needed."
   ]
  },
  {
   "cell_type": "markdown",
   "metadata": {},
   "source": [
    "## <a id='toc2_'></a>[Scenario: Two People Creating Conda Environments](#toc0_)"
   ]
  },
  {
   "cell_type": "markdown",
   "metadata": {},
   "source": [
    "Now, let's relate this to our scenario with Person #1 and Person #2:\n",
    "\n",
    "- Person #1 has developed a Python code for a project that relies on specific packages (Python, tensorflow, sklearn, and numpy). To ensure their code runs without any issues, they use Conda, a popular package manager, to create a separate environment.\n",
    "\n",
    "- Person #2 also has the code, but they don't use Conda or have the same packages installed as Person #1."
   ]
  },
  {
   "cell_type": "markdown",
   "metadata": {},
   "source": [
    "<img src=\"./images/conda-environments.png\" width=\"800\">"
   ]
  },
  {
   "cell_type": "markdown",
   "metadata": {},
   "source": [
    "\n",
    "In our scenario with Person #1 and Person #2, Person #1 uses Conda as the package manager for their Python project. Here's how Conda helps:\n",
    "\n",
    "- **Person #1's Computer (Conda Environment)**: Person #1 creates a Conda environment specifically for their project. Within this environment, Conda ensures that the required packages (tensorflow, sklearn, and numpy) are installed with the correct versions. This isolation guarantees that Person #1's code runs smoothly and consistently, regardless of other packages installed on their computer.\n",
    "\n",
    "- **Person #2's Computer (Non-Conda Environment)**: Person #2 doesn't use Conda and might have a different set of packages installed, including Package_A. When they try to run Person #1's code without setting up a similar environment, issues arise. The code may fail due to missing dependencies (no tensorflow and wrong version for numpy) that are required for the code to work correctly."
   ]
  },
  {
   "cell_type": "markdown",
   "metadata": {},
   "source": [
    "By using Conda and environments, Python developers achieve code **portability** and **reproducibility**. Portability means that the code can be easily shared and run on different computers, as long as the recipient sets up the same Conda environment. Reproducibility ensures that the code will behave consistently over time, even if package versions change, as Conda keeps track of dependencies and versions within the environment."
   ]
  },
  {
   "cell_type": "markdown",
   "metadata": {},
   "source": [
    "## <a id='toc3_'></a>[Benefits of Using a Package Manager](#toc0_)"
   ]
  },
  {
   "cell_type": "markdown",
   "metadata": {},
   "source": [
    "<img src=\"./images/conda-python.jpg\" width=\"500\">"
   ]
  },
  {
   "cell_type": "markdown",
   "metadata": {},
   "source": [
    "\n",
    "A package manager, such as Conda, provides several benefits for Python development:\n"
   ]
  },
  {
   "cell_type": "markdown",
   "metadata": {},
   "source": [
    "\n",
    "1. **Dependency management**: Package managers handle the installation, upgrading, and removal of packages and their dependencies. This eliminates the need to manually manage complex dependency chains, ensuring that your project's dependencies are correctly installed and compatible with each other.\n",
    "\n",
    "2. **Environment isolation**: With Conda, you can create isolated environments, also known as virtual environments, for your Python projects. Each environment can have its own set of packages and dependencies, enabling you to work on different projects with varying requirements without conflicts.\n",
    "\n",
    "3. **Reproducibility**: By specifying the exact versions of packages in your Conda environment, you can ensure that your project can be reproduced in the future. This is particularly useful when sharing code with others or when deploying your project on different machines.\n"
   ]
  },
  {
   "cell_type": "markdown",
   "metadata": {},
   "source": [
    "While there are other Python package managers like `pip` and `poetry`, which is the standard package manager for Python, and other specialized package managers for specific use cases, we've selected Conda for its robust features, strong dependency management, and extensive support for scientific computing and data science projects."
   ]
  },
  {
   "cell_type": "markdown",
   "metadata": {},
   "source": [
    "By installing Miniconda and leveraging the power of Conda, you will have a robust package manager at your disposal. Later, we will use Conda to install Python and required packages, enabling you to create a tailored and efficient Python development environment.\n"
   ]
  },
  {
   "cell_type": "markdown",
   "metadata": {},
   "source": [
    "# Installing Conda\n"
   ]
  },
  {
   "cell_type": "markdown",
   "metadata": {},
   "source": [
    "\n",
    "In this section, we will walk you through the process of installing Conda, a popular package manager and environment management system. We recommend using Miniconda, which is a lightweight version of Anaconda. The installation steps provided below will ensure that you have the necessary tools to create and manage Python environments effectively.\n"
   ]
  },
  {
   "cell_type": "markdown",
   "metadata": {},
   "source": [
    "**Table of contents**<a id='toc0_'></a>    \n",
    "- [Understanding the Differences: Conda, Miniconda, and Anaconda](#toc1_)    \n",
    "- [Why Prefer Miniconda](#toc2_)    \n",
    "- [Installing miniconda with Command Line](#toc3_)    \n",
    "  - [Linux and Windows Subsystem for Linux (WSL)](#toc3_1_)    \n",
    "  - [macOS](#toc3_2_)    \n",
    "  - [Step by Step Installation Guide for Installing Conda with Command Line](#toc3_3_)    \n",
    "    - [Running Conda Initialization Manually](#toc3_3_1_)    \n",
    "- [Conclusion](#toc4_)    \n",
    "\n",
    "<!-- vscode-jupyter-toc-config\n",
    "\tnumbering=false\n",
    "\tanchor=true\n",
    "\tflat=false\n",
    "\tminLevel=2\n",
    "\tmaxLevel=6\n",
    "\t/vscode-jupyter-toc-config -->\n",
    "<!-- THIS CELL WILL BE REPLACED ON TOC UPDATE. DO NOT WRITE YOUR TEXT IN THIS CELL -->"
   ]
  },
  {
   "attachments": {},
   "cell_type": "markdown",
   "metadata": {},
   "source": [
    "<img src=\"./images/conda-miniconda-anaconda.png\" width=\"500\">"
   ]
  },
  {
   "cell_type": "markdown",
   "metadata": {},
   "source": [
    "## <a id='toc1_'></a>[Understanding the Differences: Conda, Miniconda, and Anaconda](#toc0_)"
   ]
  },
  {
   "cell_type": "markdown",
   "metadata": {},
   "source": [
    "\n",
    "When it comes to managing Python packages and creating isolated environments, Conda, Miniconda, and Anaconda are three popular choices. While they share the same underlying package manager, Conda, there are key differences between them that cater to different use cases. In this guide, we'll explore these differences and explain why Miniconda is often preferred over the others.\n",
    "\n",
    "**1. Conda:**\n",
    "Conda is the package manager at the core of both Miniconda and Anaconda. It is a powerful tool that allows you to install, update, and manage software packages and their dependencies. Additionally, Conda supports multiple platforms and is not limited to Python packages; it can manage packages written in other languages, making it versatile for various projects.\n",
    "\n",
    "**2. Miniconda:**\n",
    "Miniconda is a minimal version of Anaconda, designed to provide a lightweight and customizable installation. It includes only the Conda package manager and essential dependencies, leaving out the extensive collection of pre-installed Python packages that come with Anaconda. Miniconda allows users to have more control over the packages they install and saves disk space compared to a full Anaconda installation.\n",
    "\n",
    "**3. Anaconda:**\n",
    "Anaconda is a distribution that includes the Conda package manager and an extensive collection of pre-installed Python packages, along with popular data science libraries, tools, and environments. It is tailored specifically for data science, scientific computing, and machine learning tasks. Anaconda is an all-in-one solution that simplifies the setup for data scientists and researchers, providing a wide range of pre-configured tools.\n"
   ]
  },
  {
   "cell_type": "markdown",
   "metadata": {},
   "source": [
    "## <a id='toc2_'></a>[Why Prefer Miniconda](#toc0_)"
   ]
  },
  {
   "cell_type": "markdown",
   "metadata": {},
   "source": [
    "\n",
    "1. **Customizability:** Miniconda's minimalistic approach allows users to install only the packages they need. This level of control ensures that you can set up lightweight and efficient Python environments tailored to your specific project requirements.\n",
    "\n",
    "2. **Reduced Disk Space:** By installing only the necessary packages, Miniconda consumes less disk space compared to Anaconda. This can be crucial, especially on systems with limited storage capacity or when managing multiple environments.\n",
    "\n",
    "3. **Faster Installation:** Miniconda has a smaller download size and faster installation process compared to Anaconda. This makes it more convenient for quick installations and setting up isolated environments on-demand.\n"
   ]
  },
  {
   "cell_type": "markdown",
   "metadata": {},
   "source": [
    "While Conda is the common package manager shared by both Miniconda and Anaconda, the choice between the two depends on your specific needs. For users seeking greater flexibility, customizability, reduced disk space, and faster installation times, Miniconda is the preferred option. On the other hand, if you require a comprehensive data science environment with pre-installed packages, Anaconda provides a comprehensive and convenient solution. By understanding the differences between Conda, Miniconda, and Anaconda, you can make an informed decision based on your project's requirements and your preferences for package management and environment setup.\n"
   ]
  },
  {
   "cell_type": "markdown",
   "metadata": {},
   "source": [
    "## <a id='toc3_'></a>[Installing miniconda with Command Line](#toc0_)"
   ]
  },
  {
   "cell_type": "markdown",
   "metadata": {},
   "source": [
    "The command-line installation of Conda involves downloading and running a script specific to your operating system. Let's go through the installation process for each OS."
   ]
  },
  {
   "cell_type": "markdown",
   "metadata": {},
   "source": [
    "**Why Choose Command-Line Installation:**\n",
    "\n",
    "Here are some reasons why installing Conda via the command line is preferred:\n",
    "\n",
    "1. **Control and Flexibility:** Command-line installation allows you to customize the installation, choose installation paths, and set environment variables as needed.\n",
    "\n",
    "2. **Faster and Scriptable:** Command-line installations are often faster and can be easily automated using scripts, making them ideal for automated deployments and reproducibility.\n",
    "\n",
    "3. **Lightweight:** Command-line installations (e.g., Miniconda) provide a minimal installation, giving you more control over the packages you want to install, reducing disk space usage.\n",
    "\n",
    "4. **Compatibility:** Command-line installations work on remote servers and headless systems, where graphical interfaces are not available.\n"
   ]
  },
  {
   "cell_type": "markdown",
   "metadata": {},
   "source": [
    "### <a id='toc3_1_'></a>[Linux and Windows Subsystem for Linux (WSL)](#toc0_)\n"
   ]
  },
  {
   "cell_type": "markdown",
   "metadata": {},
   "source": [
    "\n",
    "WSL allows you to run a Linux distribution alongside your Windows OS. To install Conda in WSL, follow these steps:\n",
    "\n",
    "a. Open your WSL terminal (e.g., Ubuntu) and update the package lists:\n",
    "```bash\n",
    "sudo apt update\n",
    "```\n",
    "\n",
    "b. Download the Miniconda installer for Linux using `wget`:\n",
    "```bash\n",
    "wget https://repo.anaconda.com/miniconda/Miniconda3-latest-Linux-x86_64.sh\n",
    "```\n",
    "\n",
    "c. Run the installation script and follow the prompts:\n",
    "```bash\n",
    "bash Miniconda3-latest-Linux-x86_64.sh\n",
    "```"
   ]
  },
  {
   "cell_type": "markdown",
   "metadata": {},
   "source": [
    "### <a id='toc3_2_'></a>[macOS](#toc0_)"
   ]
  },
  {
   "cell_type": "markdown",
   "metadata": {},
   "source": [
    "To install Conda on Intel-based macOS, you can follow these steps:\n",
    "\n",
    "a. Open your terminal and download the Miniconda installer for macOS (Intel):\n",
    "```bash\n",
    "curl -O https://repo.anaconda.com/miniconda/Miniconda3-latest-MacOSX-x86_64.sh\n",
    "```\n",
    "\n",
    "or for macOS (Apple Silicon):\n",
    "```bash\n",
    "curl -O https://repo.anaconda.com/miniconda/Miniconda3-latest-MacOSX-arm64.sh\n",
    "```\n",
    "\n",
    "\n",
    "b. Run the installation script and follow the prompts:\n",
    "```bash\n",
    "bash Miniconda3-latest-MacOSX-x86_64.sh\n",
    "```\n",
    "\n",
    "or for macOS (Apple Silicon):\n",
    "```bash\n",
    "bash Miniconda3-latest-MacOSX-arm64.sh\n",
    "```"
   ]
  },
  {
   "cell_type": "markdown",
   "metadata": {},
   "source": [
    "### <a id='toc3_3_'></a>[Step by Step Installation Guide for Installing Conda with Command Line](#toc0_)"
   ]
  },
  {
   "cell_type": "markdown",
   "metadata": {},
   "source": [
    "**Step 1: Download Conda with wget (in Linux) or Curl (macOS)**"
   ]
  },
  {
   "cell_type": "markdown",
   "metadata": {},
   "source": [
    "<img src=\"./images/00-conda-download.png\" width=\"500\">"
   ]
  },
  {
   "cell_type": "markdown",
   "metadata": {},
   "source": [
    "<img src=\"./images/00-conda-download-mac.png\" width=\"500\">"
   ]
  },
  {
   "cell_type": "markdown",
   "metadata": {},
   "source": [
    "\n",
    "- Open your terminal or command prompt.\n",
    "- Use the `wget`/`curl` command to download the Conda installer script.\n",
    "- Example:\n",
    "  - Linux/WSL: `wget https://repo.anaconda.com/miniconda/Miniconda3-latest-Linux-x86_64.sh`\n",
    "  - MacOS (Intel): `curl -O https://repo.anaconda.com/miniconda/Miniconda3-latest-MacOSX-x86_64.sh`\n",
    "  - MacOS (Apple Silicon)`curl -O https://repo.anaconda.com/miniconda/Miniconda3-latest-MacOSX-arm64.sh`"
   ]
  },
  {
   "cell_type": "markdown",
   "metadata": {},
   "source": [
    "\n",
    "**Step 2: Start Conda Installation with Bash**\n"
   ]
  },
  {
   "cell_type": "markdown",
   "metadata": {},
   "source": [
    "<img src=\"./images/01-conda-install-start.png\" width=\"500\">"
   ]
  },
  {
   "cell_type": "markdown",
   "metadata": {},
   "source": [
    "<img src=\"./images/01-conda-install-start-mac.png\" width=\"500\">"
   ]
  },
  {
   "cell_type": "markdown",
   "metadata": {},
   "source": [
    "\n",
    "- After downloading the installer, begin the installation by running the bash script.\n",
    "- Example: `bash Miniconda3-latest-Linux-x86_64.sh`\n"
   ]
  },
  {
   "cell_type": "markdown",
   "metadata": {},
   "source": [
    "\n",
    "**Step 3: Skip Conda License with Space Key**\n"
   ]
  },
  {
   "cell_type": "markdown",
   "metadata": {},
   "source": [
    "<img src=\"./images/02-conda-license-skip.png\" width=\"500\">"
   ]
  },
  {
   "cell_type": "markdown",
   "metadata": {},
   "source": [
    "\n",
    "- The License Agreement will be displayed.\n",
    "- Press the space key to scroll through the License Agreement quickly.\n"
   ]
  },
  {
   "cell_type": "markdown",
   "metadata": {},
   "source": [
    "\n",
    "**Step 4: Accept Conda License**\n"
   ]
  },
  {
   "cell_type": "markdown",
   "metadata": {},
   "source": [
    "<img src=\"./images/03-conda-license.png\" width=\"500\">"
   ]
  },
  {
   "cell_type": "markdown",
   "metadata": {},
   "source": [
    "\n",
    "- After scrolling through the License Agreement, you will be prompted to accept it.\n",
    "- Type 'yes' (without quotes) to accept the License Agreement.\n"
   ]
  },
  {
   "cell_type": "markdown",
   "metadata": {},
   "source": [
    "\n",
    "**Step 5: Set Conda Installation Path**\n"
   ]
  },
  {
   "cell_type": "markdown",
   "metadata": {},
   "source": [
    "<img src=\"./images/04-conda-installation-path.png\" width=\"500\">\n"
   ]
  },
  {
   "cell_type": "markdown",
   "metadata": {},
   "source": [
    "\n",
    "- Choose the installation path for Conda.\n",
    "- Press 'Enter' to accept the default location or specify a custom path.\n"
   ]
  },
  {
   "cell_type": "markdown",
   "metadata": {},
   "source": [
    "\n",
    "**Step 6: Conda Init Setup and Its Importance**\n"
   ]
  },
  {
   "cell_type": "markdown",
   "metadata": {},
   "source": [
    "<img src=\"./images/05-init-conda.png\" width=\"500\">"
   ]
  },
  {
   "cell_type": "markdown",
   "metadata": {},
   "source": [
    "\n",
    "- You will be asked whether to initialize Conda.\n",
    "- Type 'yes' (without quotes) to initialize Conda.\n",
    "- Conda initialization sets up necessary configurations to recognize 'conda' commands in the terminal.\n"
   ]
  },
  {
   "cell_type": "markdown",
   "metadata": {},
   "source": [
    "\n",
    "**Important Note:**\n"
   ]
  },
  {
   "cell_type": "markdown",
   "metadata": {},
   "source": [
    "- If you choose not to initialize Conda by typing 'no', the 'conda' command won't work in the terminal.\n",
    "- To fix this, you will need to manually run `conda init` after the installation.\n"
   ]
  },
  {
   "cell_type": "markdown",
   "metadata": {},
   "source": [
    "\n",
    "**Step 7: Final Image of Conda Setup**\n"
   ]
  },
  {
   "cell_type": "markdown",
   "metadata": {},
   "source": [
    "<img src=\"./images/06-conda-setup-finished.png\" width=\"500\">"
   ]
  },
  {
   "cell_type": "markdown",
   "metadata": {},
   "source": [
    "\n",
    "- The installation process is now complete.\n",
    "- You have successfully installed Conda on your system.\n"
   ]
  },
  {
   "cell_type": "markdown",
   "metadata": {},
   "source": [
    "\n",
    "**Step 8: Check Installation by Running Conda --version**\n"
   ]
  },
  {
   "cell_type": "markdown",
   "metadata": {},
   "source": [
    "<img src=\"./images/07-conda-version.png\" width=\"500\">"
   ]
  },
  {
   "cell_type": "markdown",
   "metadata": {},
   "source": [
    "\n",
    "- To verify the installation, open a new terminal or command prompt.\n",
    "- Type `conda --version` and press 'Enter'.\n",
    "- If installed correctly, it will display the Conda version number.\n"
   ]
  },
  {
   "cell_type": "markdown",
   "metadata": {},
   "source": [
    "By following these step-by-step images and instructions, you have successfully installed Conda on your system. Conda is now ready to manage Python packages and create virtual environments for your Python projects. Enjoy the power of Conda for seamless Python development!\n"
   ]
  },
  {
   "cell_type": "markdown",
   "metadata": {},
   "source": [
    "🔫 Watch [Instagram Video](https://www.instagram.com/reel/CtR8GVZgxaK/?igshid=MzRlODBiNWFlZA%3D%3D)"
   ]
  },
  {
   "cell_type": "markdown",
   "metadata": {},
   "source": [
    "#### <a id='toc3_3_1_'></a>[Running Conda Initialization Manually](#toc0_)"
   ]
  },
  {
   "cell_type": "markdown",
   "metadata": {},
   "source": [
    "In some cases, during the installation of Conda, users may encounter the option to run conda init (Step 6) but choose to decline the initialization. This decision can result in the 'conda' command not being recognized in the terminal. However, there's a simple solution to rectify this situation."
   ]
  },
  {
   "cell_type": "markdown",
   "metadata": {},
   "source": [
    "**Step 1: Source Conda Script**\n",
    "\n",
    "After completing the Conda installation, open a new terminal or command prompt and run the following command to source the Conda script:\n",
    "\n",
    "```bash\n",
    "source ~/miniconda3/etc/profile.d/conda.sh\n",
    "```\n",
    "\n",
    "This command sets up the necessary environment variables to make 'conda' accessible in the current terminal session."
   ]
  },
  {
   "cell_type": "markdown",
   "metadata": {},
   "source": [
    "**Step 2: Initialize Conda**\n",
    "Next, if you are using linux or WSL, to ensure 'conda' works in every new terminal session, run the following command:\n",
    "\n",
    "```bash\n",
    "conda init bash\n",
    "```\n",
    "\n",
    "This will initialize Conda for the Bash shell, making the 'conda' command available automatically whenever you open a new terminal.\n",
    "\n",
    "If you are using the Zsh shell (Default on macOS), run the following command to initialize Conda for Zsh:\n",
    "\n",
    "```bash\n",
    "conda init zsh\n",
    "```\n",
    "This will enable the `conda` command to work in Zsh terminal sessions as well.\n",
    "\n",
    "> Users on WSL are most likely using the Bash shell by default, so the primary initialization command is `conda init bash`. On macOS, the default shell is Zsh, so you can also run `conda init zsh` if you prefer to use Zsh."
   ]
  },
  {
   "cell_type": "markdown",
   "metadata": {},
   "source": [
    "**Step 4: Restart the Terminal**\n",
    "\n",
    "After executing the above steps, close the current terminal and open a new one. The 'conda' command should now be recognized, and you can start using Conda to manage Python packages and environments."
   ]
  },
  {
   "cell_type": "markdown",
   "metadata": {},
   "source": [
    "**Important Note:**\n",
    "\n",
    "By declining conda init during installation, you are opting to initialize Conda manually after installation. Running the provided commands is essential to ensure a smooth and hassle-free experience with Conda. Initialization sets up the environment variables needed to access the 'conda' command system-wide."
   ]
  },
  {
   "cell_type": "markdown",
   "metadata": {},
   "source": [
    "If you've chosen not to run conda init during the installation process and find that the 'conda' command is not working, don't worry. Simply follow the steps above to source the Conda script and initialize Conda manually in your terminal. Once completed, you can fully leverage the power of Conda for seamless management of Python packages and environments, whether you are using Bash or Zsh as your default shell."
   ]
  },
  {
   "cell_type": "markdown",
   "metadata": {},
   "source": [
    "## <a id='toc4_'></a>[Conclusion](#toc0_)"
   ]
  },
  {
   "cell_type": "markdown",
   "metadata": {},
   "source": [
    "\n",
    "In summary, Conda is a powerful package manager that provides an efficient way to manage package dependencies and ensure code compatibility across different computers and projects. By creating isolated environments and handling package versions, Conda helps Python developers collaborate seamlessly, deploy projects reliably, and maintain code stability over time. Its ability to handle complex package requirements makes it a valuable tool in the Python ecosystem."
   ]
  },
  {
   "cell_type": "markdown",
   "metadata": {},
   "source": [
    "# Python Package Management System\n"
   ]
  },
  {
   "cell_type": "markdown",
   "metadata": {},
   "source": [
    "In the world of Python development, efficient package management is essential to streamline project workflows and ensure seamless collaboration. Let's explore the different aspects of package management systems, starting with package repositories."
   ]
  },
  {
   "cell_type": "markdown",
   "metadata": {},
   "source": [
    "**Table of contents**<a id='toc0_'></a>    \n",
    "- [Package Repository](#toc1_)    \n",
    "- [Conda vs. Pip](#toc2_)    \n",
    "- [PyPI vs. Conda Forge](#toc3_)    \n",
    "- [Dealing with PyPI-only Packages in Conda](#toc4_)    \n",
    "- [Which Should You Use?](#toc5_)    \n",
    "- [Python Environment and Package Management](#toc6_)    \n",
    "  - [Key Components](#toc6_1_)    \n",
    "    - [Python Environments](#toc6_1_1_)    \n",
    "    - [Python Interpreter](#toc6_1_2_)    \n",
    "    - [Packages and Dependencies](#toc6_1_3_)    \n",
    "    - [Package Managers (pip and conda)](#toc6_1_4_)    \n",
    "    - [Package Repositories (PyPI and Anaconda Channels)](#toc6_1_5_)    \n",
    "\n",
    "<!-- vscode-jupyter-toc-config\n",
    "\tnumbering=false\n",
    "\tanchor=true\n",
    "\tflat=false\n",
    "\tminLevel=2\n",
    "\tmaxLevel=6\n",
    "\t/vscode-jupyter-toc-config -->\n",
    "<!-- THIS CELL WILL BE REPLACED ON TOC UPDATE. DO NOT WRITE YOUR TEXT IN THIS CELL -->"
   ]
  },
  {
   "cell_type": "markdown",
   "metadata": {},
   "source": [
    "## <a id='toc1_'></a>[Package Repository](#toc0_)"
   ]
  },
  {
   "cell_type": "markdown",
   "metadata": {},
   "source": [
    "A package repository acts as a centralized storage location for software packages. It serves as a hub where developers can publish their packages, making them accessible for others to download and use. One of the most well-known repositories is the Python Package Index (PyPI), which hosts a vast collection of Python packages contributed by the Python community. Package repositories like PyPI simplify the process of discovering, installing, and updating software packages, reducing the effort required to manage dependencies and fostering collaboration among developers."
   ]
  },
  {
   "cell_type": "markdown",
   "metadata": {},
   "source": [
    "## <a id='toc2_'></a>[Conda vs. Pip](#toc0_)\n"
   ]
  },
  {
   "attachments": {},
   "cell_type": "markdown",
   "metadata": {},
   "source": [
    "<img src=\"./images/pip.webp\" width=\"200\">"
   ]
  },
  {
   "cell_type": "markdown",
   "metadata": {},
   "source": [
    "Next, let's delve into two popular package managers for Python: Conda and pip. Conda is a cross-platform package manager and environment management system that provides a comprehensive ecosystem of pre-built packages. It allows users to create isolated environments, install packages, and manage dependencies efficiently, making it an excellent choice for Python development and data science projects."
   ]
  },
  {
   "cell_type": "markdown",
   "metadata": {},
   "source": [
    "\n",
    "On the other hand, pip is the default package manager for Python and stands for \"pip installs packages.\" It enables users to install, upgrade, and manage Python packages from PyPI. While both Conda and pip are valuable tools, they have different strengths and use cases. Conda's focus on environment management and binary package distribution ensures compatibility across different operating systems, while pip primarily focuses on Python packages and requires package compilation in some cases."
   ]
  },
  {
   "cell_type": "markdown",
   "metadata": {},
   "source": [
    "Both Conda and pip are popular package managers for Python, but they have different strengths and use cases. Here is a comparison of Conda and pip:\n",
    "\n",
    "|       | Conda | pip |\n",
    "|-------|-------|-----|\n",
    "| **Installation** | Installs packages and manages environments simultaneously | Installs packages only |\n",
    "| **Environment Management** | Manages isolated environments with specific package versions | Does not handle environment management |\n",
    "| **Binary Packages** | Provides pre-compiled binary packages for easy installation | Requires package compilation in some cases |\n",
    "| **Platform Compatibility** | Ensures package compatibility across different operating systems | Relies on platform-specific package distributions |\n",
    "| **Package Availability** | Offers a wide range of packages, including non-Python dependencies | Focuses primarily on Python packages |\n",
    "| **Package Channels** | Supports Conda channels for package distribution and versioning | Relies on PyPI as the default package repository |\n",
    "| **Dependency Resolution** | Solves complex dependency chains to ensure compatibility | Relies on package maintainers to provide dependency information |\n"
   ]
  },
  {
   "cell_type": "markdown",
   "metadata": {},
   "source": [
    "\n",
    "## <a id='toc3_'></a>[PyPI vs. Conda Forge](#toc0_)\n"
   ]
  },
  {
   "cell_type": "markdown",
   "metadata": {},
   "source": [
    "Now, let's compare two major package repositories: PyPI and Conda Forge. PyPI is the largest repository of Python packages, hosting an extensive collection of Python-specific packages contributed by developers worldwide. While it does support binary distribution, it might not guarantee binary packages for all packages."
   ]
  },
  {
   "cell_type": "markdown",
   "metadata": {},
   "source": [
    "\n",
    "Conda Forge, on the other hand, is a community-driven platform that emphasizes pre-compiled binary packages for Python and non-Python dependencies. It offers a comprehensive collection of packages, ensuring a robust and reliable environment for users."
   ]
  },
  {
   "cell_type": "markdown",
   "metadata": {},
   "source": [
    "When it comes to package repositories, there are two major options: PyPI (Python Package Index) and Conda Forge. Here is a comparison of PyPI and Conda Forge:\n",
    "\n",
    "|       | PyPI | Conda Forge |\n",
    "|-------|------|-------------|\n",
    "| **Package Availability** | Largest repository of Python packages | Comprehensive collection of Python and non-Python packages |\n",
    "| **Binary Packages** | Supports binary distribution but not guaranteed for all packages | Emphasizes pre-compiled binary packages for various platforms |\n",
    "| **Package Versioning** | Package maintainers handle versioning and releases | Community-driven versioning and continuous integration process |\n",
    "| **Dependency Management** | Relies on package maintainers to define dependencies | Centralized dependency management through Conda environment files |\n",
    "| **Build System** | Relies on package maintainers to provide build scripts | Utilizes the Conda build system for consistent package building |"
   ]
  },
  {
   "cell_type": "markdown",
   "metadata": {},
   "source": [
    "In summary, understanding the distinctions between package repositories and management systems is crucial for effectively managing dependencies and creating reproducible Python projects. Whether you choose to utilize PyPI, Conda, or Conda Forge, each option brings unique advantages to cater to your specific project requirements. Now, let's dive deeper into how to utilize these systems to create and manage Python environments and packages efficiently."
   ]
  },
  {
   "cell_type": "markdown",
   "metadata": {},
   "source": [
    "\n",
    "## <a id='toc4_'></a>[Dealing with PyPI-only Packages in Conda](#toc0_)\n"
   ]
  },
  {
   "cell_type": "markdown",
   "metadata": {},
   "source": [
    "Sometimes, you may come across Python packages that are only available on PyPI and not in the Conda repository. In such cases, you have a few options:\n"
   ]
  },
  {
   "cell_type": "markdown",
   "metadata": {},
   "source": [
    "1. **Using pip within a Conda environment**: You can use pip to install packages directly within a Conda environment. However, be cautious as it may lead to dependency conflicts.\n",
    "\n",
    "2. **Creating a separate virtual environment**: If the PyPI-only package is critical for your project, you can create a separate virtual environment using virtualenv or venv and install the package with pip. This helps isolate the package and its dependencies from your Conda environment.\n",
    "\n",
    "3. **Building Conda packages**: If you have the necessary expertise, you can build a Conda package for the PyPI-only package. This allows you to leverage the benefits of Conda, such as platform compatibility and dependency management, while using the package.\n"
   ]
  },
  {
   "cell_type": "markdown",
   "metadata": {},
   "source": [
    "## <a id='toc5_'></a>[Which Should You Use?](#toc0_)\n"
   ]
  },
  {
   "cell_type": "markdown",
   "metadata": {},
   "source": [
    "Both Conda and pip have their strengths, and the choice depends on your specific requirements. However, Conda is particularly advantageous for managing Python packages in data science projects due to its robust environment management and dependency resolution capabilities. It offers a comprehensive ecosystem of pre-built packages, including non-Python dependencies, and ensures platform compatibility. Additionally, Conda provides Conda Forge, a repository that expands the package availability beyond PyPI, making it a suitable choice for data science setups.\n"
   ]
  },
  {
   "cell_type": "markdown",
   "metadata": {},
   "source": [
    "## <a id='toc6_'></a>[Python Environment and Package Management](#toc0_)"
   ]
  },
  {
   "cell_type": "markdown",
   "metadata": {},
   "source": [
    "Here is a visual representation of the Python setup world, focusing on the role of package managers like pip and conda:"
   ]
  },
  {
   "cell_type": "markdown",
   "metadata": {},
   "source": [
    "\n",
    "<img src=\"./images/python-ecosystem.png\" width=\"800\">\n"
   ]
  },
  {
   "cell_type": "markdown",
   "metadata": {},
   "source": [
    "\n",
    "#### <a id='toc6_1_1_'></a>[Python Environments](#toc0_)\n"
   ]
  },
  {
   "cell_type": "markdown",
   "metadata": {},
   "source": [
    "\n",
    "A Python environment is an isolated space where both the Python interpreter and packages are installed. This isolation allows different environments to have different versions of both the Python interpreter and the installed packages, which can be useful for testing different configurations or isolating dependencies for different projects.\n"
   ]
  },
  {
   "cell_type": "markdown",
   "metadata": {},
   "source": [
    "\n",
    "#### <a id='toc6_1_2_'></a>[Python Interpreter](#toc0_)\n"
   ]
  },
  {
   "cell_type": "markdown",
   "metadata": {},
   "source": [
    "\n",
    "The Python interpreter is the core component that executes your Python code. It is installed within a Python environment.\n"
   ]
  },
  {
   "cell_type": "markdown",
   "metadata": {},
   "source": [
    "\n",
    "#### <a id='toc6_1_3_'></a>[Packages and Dependencies](#toc0_)\n"
   ]
  },
  {
   "cell_type": "markdown",
   "metadata": {},
   "source": [
    "\n",
    "Packages are modules of code that pip and conda install. They can come from PyPI or Anaconda Channels. Dependencies are packages that another package needs to run properly. In the context of the diagram, \"Packages\" and \"Dependencies\" are essentially the same type of entity. However, they are represented separately to highlight the role of package managers in handling dependencies, which is a crucial aspect of package management.\n"
   ]
  },
  {
   "cell_type": "markdown",
   "metadata": {},
   "source": [
    "\n",
    "#### <a id='toc6_1_4_'></a>[Package Managers (pip and conda)](#toc0_)\n"
   ]
  },
  {
   "cell_type": "markdown",
   "metadata": {},
   "source": [
    "\n",
    "Package managers are tools that automate the process of installing, upgrading, configuring, and removing Python packages. They interact with package repositories to download and install packages. They also handle dependencies to ensure all required packages are installed.\n"
   ]
  },
  {
   "cell_type": "markdown",
   "metadata": {},
   "source": [
    "\n",
    "#### <a id='toc6_1_5_'></a>[Package Repositories (PyPI and Anaconda Channels)](#toc0_)\n"
   ]
  },
  {
   "cell_type": "markdown",
   "metadata": {},
   "source": [
    "\n",
    "These are the sources where the package managers fetch the packages from. PyPI (Python Package Index) is the repository for pip, while Anaconda Channels are for conda.\n"
   ]
  },
  {
   "cell_type": "markdown",
   "metadata": {},
   "source": [
    "# Managing Python Packages with Conda\n"
   ]
  },
  {
   "cell_type": "markdown",
   "metadata": {},
   "source": [
    "In this section, we will dive into the world of Conda environments, learning how to create and manage them effectively. We will explore how to activate and deactivate environments, list installed packages, and remove unnecessary environments. Additionally, we will master the art of installing, updating, and removing packages while exploring various channels to find the perfect packages for our projects. Get ready to take control of your Python projects and ensure smooth package management with Conda! Let's get started!"
   ]
  },
  {
   "cell_type": "markdown",
   "metadata": {},
   "source": [
    "**Table of contents**<a id='toc0_'></a>    \n",
    "- [Conda Environments](#toc1_)    \n",
    "  - [Creating a New Environment](#toc1_1_)    \n",
    "  - [Activating and Deactivating Environments](#toc1_2_)    \n",
    "  - [Listing Environments and Packages](#toc1_3_)    \n",
    "  - [Removing Environments](#toc1_4_)    \n",
    "- [Installing and Managing Packages](#toc2_)    \n",
    "  - [Installing Packages](#toc2_1_)    \n",
    "    - [Installing Packages with pip](#toc2_1_1_)    \n",
    "  - [Updating Packages](#toc2_2_)    \n",
    "  - [Removing Packages](#toc2_3_)    \n",
    "- [Environment Files](#toc3_)    \n",
    "  - [Exporting an Environment](#toc3_1_)    \n",
    "  - [Creating an Environment from a File](#toc3_2_)    \n",
    "- [Best Practices](#toc4_)    \n",
    "\n",
    "<!-- vscode-jupyter-toc-config\n",
    "\tnumbering=false\n",
    "\tanchor=true\n",
    "\tflat=false\n",
    "\tminLevel=2\n",
    "\tmaxLevel=6\n",
    "\t/vscode-jupyter-toc-config -->\n",
    "<!-- THIS CELL WILL BE REPLACED ON TOC UPDATE. DO NOT WRITE YOUR TEXT IN THIS CELL -->"
   ]
  },
  {
   "cell_type": "markdown",
   "metadata": {},
   "source": [
    "## <a id='toc1_'></a>[Conda Environments](#toc0_)"
   ]
  },
  {
   "cell_type": "markdown",
   "metadata": {},
   "source": [
    "Conda environments are isolated spaces that allow you to manage packages and dependencies separately for different projects. They help avoid conflicts between packages and ensure the reproducibility of your Python projects."
   ]
  },
  {
   "cell_type": "markdown",
   "metadata": {},
   "source": [
    "<img src=\"./images/how-conda-works.png\" width=\"800\">"
   ]
  },
  {
   "cell_type": "markdown",
   "metadata": {},
   "source": [
    "### <a id='toc1_1_'></a>[Creating a New Environment](#toc0_)"
   ]
  },
  {
   "cell_type": "markdown",
   "metadata": {},
   "source": [
    "To create a new Conda environment, use the conda create command followed by the desired environment name and the Python version you want to use:\n",
    "\n",
    "```bash\n",
    "conda create --name my_env python=3.10\n",
    "```"
   ]
  },
  {
   "cell_type": "markdown",
   "metadata": {},
   "source": [
    "Replace `my_env` with your preferred environment name, and `python=3.10` with the desired Python version."
   ]
  },
  {
   "cell_type": "markdown",
   "metadata": {},
   "source": [
    "### <a id='toc1_2_'></a>[Activating and Deactivating Environments](#toc0_)"
   ]
  },
  {
   "cell_type": "markdown",
   "metadata": {},
   "source": [
    "<img src=\"./images/conda-activate.png\" width=\"600\">"
   ]
  },
  {
   "cell_type": "markdown",
   "metadata": {},
   "source": [
    "Before using an environment, you need to activate it. To activate an environment, use the `conda activate` command:\n",
    "\n",
    "```bash\n",
    "conda activate my_env\n",
    "```"
   ]
  },
  {
   "cell_type": "markdown",
   "metadata": {},
   "source": [
    "Replace `my_env` with the name of the environment you want to activate."
   ]
  },
  {
   "cell_type": "markdown",
   "metadata": {},
   "source": [
    "To deactivate the current environment and return to the base environment, use the `conda deactivate` command:\n",
    "```bash\n",
    "conda deactivate\n",
    "```"
   ]
  },
  {
   "cell_type": "markdown",
   "metadata": {},
   "source": [
    "### <a id='toc1_3_'></a>[Listing Environments and Packages](#toc0_)"
   ]
  },
  {
   "cell_type": "markdown",
   "metadata": {},
   "source": [
    "To list all available environments on your system, use the following command:\n",
    "\n",
    "```bash\n",
    "conda env list\n",
    "```\n",
    "\n",
    "or\n",
    "\n",
    "```bash\n",
    "conda info --envs\n",
    "```"
   ]
  },
  {
   "cell_type": "markdown",
   "metadata": {},
   "source": [
    "To list the packages installed in a specific environment, first activate the environment and then use `conda list`:\n",
    "\n",
    "```bash\n",
    "conda activate my_env\n",
    "conda list\n",
    "```"
   ]
  },
  {
   "cell_type": "markdown",
   "metadata": {},
   "source": [
    "### <a id='toc1_4_'></a>[Removing Environments](#toc0_)\n"
   ]
  },
  {
   "cell_type": "markdown",
   "metadata": {},
   "source": [
    "If you no longer need an environment, you can remove it with the following command:\n",
    "\n",
    "```bash\n",
    "conda env remove --name my_env\n",
    "```\n",
    "\n",
    "Replace `my_env` with the name of the environment you want to remove."
   ]
  },
  {
   "cell_type": "markdown",
   "metadata": {},
   "source": [
    "## <a id='toc2_'></a>[Installing and Managing Packages](#toc0_)"
   ]
  },
  {
   "cell_type": "markdown",
   "metadata": {},
   "source": [
    "Conda makes it easy to install, update, and remove Python packages within your environments."
   ]
  },
  {
   "cell_type": "markdown",
   "metadata": {},
   "source": [
    "### <a id='toc2_1_'></a>[Installing Packages](#toc0_)"
   ]
  },
  {
   "cell_type": "markdown",
   "metadata": {},
   "source": [
    "To install a package, activate the desired environment and use the `conda install` command:\n",
    "\n",
    "```bash\n",
    "conda activate my_env\n",
    "conda install PACKAGE_NAME\n",
    "```\n",
    "\n",
    "Replace `my_env` with the environment name and `PACKAGE_NAME` with the name of the package you want to install."
   ]
  },
  {
   "cell_type": "markdown",
   "metadata": {},
   "source": [
    "To install a specific version of a package with Conda, you can use the following syntax:\n",
    "\n",
    "```bash\n",
    "conda install PACKAGE_NAME=VERSION\n",
    "```"
   ]
  },
  {
   "cell_type": "markdown",
   "metadata": {},
   "source": [
    "Replace `PACKAGE_NAME` with the name of the package you want to install, and `VERSION` with the specific version you desire. Conda will then install the specified version of the package in the currently activated environment."
   ]
  },
  {
   "cell_type": "markdown",
   "metadata": {},
   "source": [
    "For example, to install NumPy version 1.25, you would run:\n",
    "\n",
    "```\n",
    "conda install numpy=1.25\n",
    "```"
   ]
  },
  {
   "cell_type": "markdown",
   "metadata": {},
   "source": [
    "Keep in mind that not all packages will have all versions available in the Conda repositories. If the specific version you want is not available through Conda, you may need to explore other options, such as using pip or considering a different version that is available through Conda."
   ]
  },
  {
   "cell_type": "markdown",
   "metadata": {},
   "source": [
    "#### <a id='toc2_1_1_'></a>[Installing Packages with pip](#toc0_)"
   ]
  },
  {
   "cell_type": "markdown",
   "metadata": {},
   "source": [
    "Conda also supports installing packages using pip. To do this, activate the desired environment and use the `pip install` command:\n",
    "\n",
    "```bash\n",
    "conda activate my_env\n",
    "pip install PACKAGE_NAME\n",
    "```"
   ]
  },
  {
   "cell_type": "markdown",
   "metadata": {},
   "source": [
    "Replace `my_env` with the environment name and `PACKAGE_NAME` with the name of the package you want to install."
   ]
  },
  {
   "cell_type": "markdown",
   "metadata": {},
   "source": [
    "Keep in mind that while Conda can work seamlessly with `pip`, it is generally recommended to use Conda for package installations, especially when dealing with complex dependencies or data science projects. Conda excels at handling dependency conflicts and provides pre-compiled binary packages for faster installations. However, `pip` remains a valuable tool for installing packages not available through Conda."
   ]
  },
  {
   "cell_type": "markdown",
   "metadata": {},
   "source": [
    "Now you have the flexibility to manage your Python packages using Conda or pip, depending on your project's specific requirements. Let's explore more about managing and updating packages in our Conda environments!"
   ]
  },
  {
   "cell_type": "markdown",
   "metadata": {},
   "source": [
    "### <a id='toc2_2_'></a>[Updating Packages](#toc0_)"
   ]
  },
  {
   "cell_type": "markdown",
   "metadata": {},
   "source": [
    "To update a package, activate the environment and use the conda update command:\n",
    "\n",
    "```bash\n",
    "conda activate my_env\n",
    "conda update PACKAGE_NAME\n",
    "```"
   ]
  },
  {
   "cell_type": "markdown",
   "metadata": {},
   "source": [
    "To update all packages in the environment, use:\n",
    "\n",
    "```bash\n",
    "conda activate my_env\n",
    "conda update --all\n",
    "```"
   ]
  },
  {
   "cell_type": "markdown",
   "metadata": {},
   "source": [
    "### <a id='toc2_3_'></a>[Removing Packages](#toc0_)"
   ]
  },
  {
   "cell_type": "markdown",
   "metadata": {},
   "source": [
    "To remove a package from an environment, activate the environment and use the `conda remove` command:\n",
    "\n",
    "```bash\n",
    "conda activate my_env\n",
    "conda remove PACKAGE_NAME\n",
    "```\n",
    "\n",
    "Replace `my_env` with the environment name and `PACKAGE_NAME` with the name of the package you want to remove."
   ]
  },
  {
   "cell_type": "markdown",
   "metadata": {},
   "source": [
    "## <a id='toc3_'></a>[Environment Files](#toc0_)"
   ]
  },
  {
   "cell_type": "markdown",
   "metadata": {},
   "source": [
    "Conda allows you to export the environment configuration to a YAML file and recreate the same environment on another system."
   ]
  },
  {
   "cell_type": "markdown",
   "metadata": {},
   "source": [
    "### <a id='toc3_1_'></a>[Exporting an Environment](#toc0_)\n"
   ]
  },
  {
   "cell_type": "markdown",
   "metadata": {},
   "source": [
    "To export the environment to a file, activate it and use the `conda env export` command:\n",
    "\n",
    "```bash\n",
    "conda activate my_env\n",
    "conda env export > environment.yml\n",
    "```\n",
    "\n",
    "Replace `my_env` with the environment name and `environment.yml` with the desired filename."
   ]
  },
  {
   "cell_type": "markdown",
   "metadata": {},
   "source": [
    "### <a id='toc3_2_'></a>[Creating an Environment from a File](#toc0_)"
   ]
  },
  {
   "cell_type": "markdown",
   "metadata": {},
   "source": [
    "To create an environment from an environment file, use the `conda env create` command:\n",
    "\n",
    "```bash\n",
    "conda env create -f environment.yml\n",
    "```\n",
    "\n",
    "Replace `environment.yml` with the filename of your environment file."
   ]
  },
  {
   "cell_type": "markdown",
   "metadata": {},
   "source": [
    "## <a id='toc4_'></a>[Best Practices](#toc0_)"
   ]
  },
  {
   "cell_type": "markdown",
   "metadata": {},
   "source": [
    "- Create separate environments for different projects to avoid conflicts between packages.\n",
    "- Use Conda when packages have complex dependencies or when creating data science environments with scientific libraries."
   ]
  },
  {
   "cell_type": "markdown",
   "metadata": {},
   "source": [
    "#  Using Conda Environments in VS Code\n"
   ]
  },
  {
   "cell_type": "markdown",
   "metadata": {},
   "source": [
    "\n",
    "In this section, we will explore how to leverage Conda environments within Visual Studio Code (VS Code) for Python development. Conda environments allow us to isolate our project dependencies, ensuring consistency and reproducibility across different development environments. Let's get started!\n"
   ]
  },
  {
   "cell_type": "markdown",
   "metadata": {},
   "source": [
    "**Table of contents**<a id='toc0_'></a>    \n",
    "- [Installing the VS Code Extension](#toc1_)    \n",
    "- [Selecting a Conda Environment in VS Code](#toc2_)    \n",
    "- [Activating a Conda Environment in the Integrated Terminal](#toc3_)    \n",
    "\n",
    "<!-- vscode-jupyter-toc-config\n",
    "\tnumbering=false\n",
    "\tanchor=true\n",
    "\tflat=false\n",
    "\tminLevel=2\n",
    "\tmaxLevel=6\n",
    "\t/vscode-jupyter-toc-config -->\n",
    "<!-- THIS CELL WILL BE REPLACED ON TOC UPDATE. DO NOT WRITE YOUR TEXT IN THIS CELL -->"
   ]
  },
  {
   "cell_type": "markdown",
   "metadata": {},
   "source": [
    "\n",
    "## <a id='toc1_'></a>[Installing the VS Code Extension](#toc0_)\n"
   ]
  },
  {
   "cell_type": "markdown",
   "metadata": {},
   "source": [
    "\n",
    "Before we begin, make sure you have Visual Studio Code installed on your machine. Once you have VS Code installed, follow these steps to install the necessary extension for working with Conda environments:\n",
    "\n",
    "1. Launch VS Code.\n",
    "2. Go to the Extensions view by clicking on the square icon in the left sidebar or using the shortcut `Ctrl+Shift+X`.\n",
    "3. In the search bar, type \"Python\" and press Enter.\n",
    "4. Look for the \"Python\" extension by Microsoft and click on the \"Install\" button.\n"
   ]
  },
  {
   "cell_type": "markdown",
   "metadata": {},
   "source": [
    "<img src=\"./images/vscode-python-ext.png\" width=\"800\">"
   ]
  },
  {
   "cell_type": "markdown",
   "metadata": {},
   "source": [
    "\n",
    "## <a id='toc2_'></a>[Selecting a Conda Environment in VS Code](#toc0_)\n"
   ]
  },
  {
   "cell_type": "markdown",
   "metadata": {},
   "source": [
    "Once you have the Python extension installed, you can choose the desired Conda environment for your project within VS Code. When selecting an interpreter, you will see a list of available interpreters, including both global and Conda interpreters, depending on the environment managers you have chosen to work with.\n",
    "\n",
    "- **Global Interpreters:** These interpreters are the ones that come pre-installed with your operating system. They are shared across all projects and are typically located in standard system directories.\n",
    "\n",
    "- **Conda Interpreters:** These interpreters are created by Conda, a popular package and environment manager for Python. Conda environments allow us to isolate our project dependencies, ensuring consistency and reproducibility across different development environments."
   ]
  },
  {
   "cell_type": "markdown",
   "metadata": {},
   "source": [
    "\n",
    "Here's how to choose the interpreter for your project:\n",
    "\n",
    "1. Open your Python project in VS Code.\n",
    "2. At the bottom right corner of the window, click on the Python interpreter version. It may display the default interpreter or another interpreter you previously selected.\n",
    "3. In the list that appears, select an interpreter from the list or select \"Enter interpreter path...\" to enter the path to a specific interpreter. If selected, you will be prompted to enter the path to the desired interpreter. For example, if you are using Anaconda on Linux, the path to the base environment would be `/home/<username>/anaconda3/bin/python`:\n",
    "   - Choose the \"Find...\" option.\n",
    "   - Search for the Conda environment you want to use, typically located in the `envs` directory within your Anaconda installation directory.\n",
    "4. Select the desired interpreter from the list, whether it's a global interpreter that came with your operating system or a Conda interpreter you created for this project.\n"
   ]
  },
  {
   "cell_type": "markdown",
   "metadata": {},
   "source": [
    "<img src=\"./images/1-show-python-interpreter-list.png\" width=\"800\">"
   ]
  },
  {
   "cell_type": "markdown",
   "metadata": {},
   "source": [
    "<img src=\"./images/2-select-python-interpreter.png\" width=\"800\">"
   ]
  },
  {
   "cell_type": "markdown",
   "metadata": {},
   "source": [
    "\n",
    "Once you select an interpreter, VS Code will use that environment for executing Python code and managing dependencies within your project.\n"
   ]
  },
  {
   "cell_type": "markdown",
   "metadata": {},
   "source": [
    "\n",
    "This way, you can easily switch between different interpreters, enabling you to work on various projects with different dependencies and Python versions.\n"
   ]
  },
  {
   "cell_type": "markdown",
   "metadata": {},
   "source": [
    "\n",
    "## <a id='toc3_'></a>[Activating a Conda Environment in the Integrated Terminal](#toc0_)\n"
   ]
  },
  {
   "cell_type": "markdown",
   "metadata": {},
   "source": [
    "\n",
    "To activate the selected Conda environment within the integrated terminal in VS Code, follow these steps:\n",
    "\n",
    "1. Open the integrated terminal in VS Code by selecting \"View\" -> \"Terminal\" or using the shortcut `Ctrl+` backtick (`).\n",
    "2. In the terminal, you will see the current Conda environment name displayed on the left side of the command prompt (e.g., `(myenv) user@machine:~$`).\n",
    "3. If the correct Conda environment is not activated, use the following command to activate it:\n",
    "```bash\n",
    "conda activate myenv\n",
    "```"
   ]
  },
  {
   "cell_type": "markdown",
   "metadata": {},
   "source": [
    "<img src=\"./images/vscode-terminal-env.png\" width=\"800\">"
   ]
  },
  {
   "cell_type": "markdown",
   "metadata": {},
   "source": [
    "# Setting up Jupyter Notebook with Conda in VS Code\n"
   ]
  },
  {
   "cell_type": "markdown",
   "metadata": {},
   "source": [
    "\n",
    "In this section, we will walk you through the process of setting up Jupyter Notebook within VS Code using Conda as the package manager. By following these steps, you will be able to create and run Jupyter notebooks seamlessly within the VS Code environment.\n"
   ]
  },
  {
   "cell_type": "markdown",
   "metadata": {},
   "source": [
    "**Table of contents**<a id='toc0_'></a>    \n",
    "- [Configuring Conda Environment](#toc1_)    \n",
    "- [Installing Jupyter Lab](#toc2_)    \n",
    "- [Using Jupyter Lab in VS Code](#toc3_)    \n",
    "- [Jupyter Lab vs. Jupyter Notebook](#toc4_)    \n",
    "- [Conclusion](#toc5_)    \n",
    "\n",
    "<!-- vscode-jupyter-toc-config\n",
    "\tnumbering=false\n",
    "\tanchor=true\n",
    "\tflat=false\n",
    "\tminLevel=2\n",
    "\tmaxLevel=6\n",
    "\t/vscode-jupyter-toc-config -->\n",
    "<!-- THIS CELL WILL BE REPLACED ON TOC UPDATE. DO NOT WRITE YOUR TEXT IN THIS CELL -->"
   ]
  },
  {
   "cell_type": "markdown",
   "metadata": {},
   "source": [
    "\n",
    "## <a id='toc2_'></a>[Installing Jupyter Lab](#toc0_)\n",
    "\n",
    "1. With the Conda environment activated, run the following command to install Jupyter Lab:\n",
    "\n",
    "```\n",
    "conda install jupyterlab\n",
    "```\n",
    "\n",
    "2. Conda will resolve the dependencies and prompt you to proceed with the installation. Type `y` and press Enter to confirm.\n",
    "\n",
    "3. After the installation is complete, you can launch Jupyter Notebook by running the following command in the terminal:\n",
    "```bash\n",
    "jupyter lab\n",
    "```\n",
    "\n",
    "This will start the Jupyter Lab server and open a new tab in your web browser with the Jupyter Lab interface.\n",
    "\n",
    "4. To close the Jupyter Lab server, go back to the terminal and press `Ctrl+C` to stop the server.\n"
   ]
  },
  {
   "attachments": {},
   "cell_type": "markdown",
   "metadata": {},
   "source": [
    "<img src=\"./images/jupyterlab.png\" width=\"600\">"
   ]
  },
  {
   "cell_type": "markdown",
   "metadata": {},
   "source": [
    "\n",
    "## <a id='toc3_'></a>[Using Jupyter Lab in VS Code](#toc0_)\n"
   ]
  },
  {
   "cell_type": "markdown",
   "metadata": {},
   "source": [
    "1. Open VS Code."
   ]
  },
  {
   "cell_type": "markdown",
   "metadata": {},
   "source": [
    "\n",
    "2. From the top menu, select \"View\" and then \"Command Palette\" or use the shortcut `Ctrl+Shift+P` (Windows/Linux) or `Cmd+Shift+P` (macOS) to open the Command Palette.\n"
   ]
  },
  {
   "cell_type": "markdown",
   "metadata": {},
   "source": [
    "\n",
    "3. In the Command Palette, type \"Python: Create Blank Jupyter Notebook\" and select the option when it appears.\n",
    "\n",
    "Alternatively, you can create a new file with the `.ipynb` extension to create a Jupyter Notebook file directly.\n"
   ]
  },
  {
   "cell_type": "markdown",
   "metadata": {},
   "source": [
    "\n",
    "4. A new Jupyter Notebook or Jupyter Lab file will open in the VS Code editor. You can now start writing Python code, adding Markdown cells, and executing the cells using the Jupyter Lab interface within VS Code.\n"
   ]
  },
  {
   "cell_type": "markdown",
   "metadata": {},
   "source": [
    "5. After running a cell with code for the first time, Jupyter Lab may ask you to \"Type to choose a kernel source.\", you can also select the conda environment you created earlier from the Select Kernel on the top right corner of the notebook.\n"
   ]
  },
  {
   "cell_type": "markdown",
   "metadata": {},
   "source": [
    "<img src=\"./images/1-vscode-jupyter-select-kernel.png\" width=\"600\">"
   ]
  },
  {
   "cell_type": "markdown",
   "metadata": {},
   "source": [
    "1.  Select the Conda environment that you created earlier to run the code. This selection is necessary to ensure that the code runs within the desired environment.\n"
   ]
  },
  {
   "cell_type": "markdown",
   "metadata": {},
   "source": [
    "<img src=\"./images/2-vscode-jupyter-select-env.png\" width=\"600\">"
   ]
  },
  {
   "cell_type": "markdown",
   "metadata": {},
   "source": [
    "<img src=\"./images/3-vscode-jupyter-env-list.png\" width=\"600\">"
   ]
  },
  {
   "cell_type": "markdown",
   "metadata": {},
   "source": [
    "<img src=\"./images/4-vscode-jupyter-run-code.png\" width=\"600\">"
   ]
  },
  {
   "cell_type": "markdown",
   "metadata": {},
   "source": [
    "## <a id='toc4_'></a>[Jupyter Lab vs. Jupyter Notebook](#toc0_)\n"
   ]
  },
  {
   "cell_type": "markdown",
   "metadata": {},
   "source": [
    "\n",
    "Jupyter Lab offers several advantages over Jupyter Notebook:\n"
   ]
  },
  {
   "cell_type": "markdown",
   "metadata": {},
   "source": [
    "\n",
    "1. **Enhanced User Interface:** Jupyter Lab provides a more comprehensive and flexible user interface compared to Jupyter Notebook. It offers a multi-tabbed environment where you can arrange notebooks, code files, terminal sessions, and other interactive components side by side.\n",
    "\n",
    "2. **Improved Workflow:** Jupyter Lab allows you to work with multiple notebooks simultaneously, making it easier to organize and manage your code projects. You can drag and drop cells between notebooks, create new notebooks from templates, and leverage additional features such as code highlighting, improved cell editing, and integrated debugging.\n",
    "\n",
    "3. **File Browsing and Management:** Jupyter Lab provides a built-in file browser that allows you to navigate through your project directories, create new files, and manage existing files without leaving the interface. This makes it convenient to access and organize your code, data, and supporting files.\n",
    "\n",
    "4. **Extensions and Customization:** Jupyter Lab supports a wide range of extensions that enhance its functionality. You can customize the appearance, add new features, and integrate additional tools seamlessly within the interface. This flexibility enables you to tailor Jupyter Lab according to your specific needs and preferences.\n"
   ]
  },
  {
   "attachments": {},
   "cell_type": "markdown",
   "metadata": {},
   "source": [
    "<img src=\"./images/jupyter-notebook.png\" width=\"400\">"
   ]
  },
  {
   "cell_type": "markdown",
   "metadata": {},
   "source": [
    "\n",
    "While Jupyter Lab offers a more advanced and versatile environment, Jupyter Notebook still has its merits. It is simpler, lightweight, and provides a straightforward interface for running and documenting code. However, if you require more advanced features and a more comprehensive development environment, Jupyter Lab is the recommended choice.\n"
   ]
  },
  {
   "cell_type": "markdown",
   "metadata": {},
   "source": [
    "\n",
    "In our course, we will be primarily using Jupyter Lab due to its enhanced capabilities and improved workflow. This will allow you to take full advantage of the powerful features offered by Jupyter Lab while learning and practicing Python programming.\n",
    "\n"
   ]
  },
  {
   "cell_type": "markdown",
   "metadata": {},
   "source": [
    "## <a id='toc5_'></a>[Conclusion](#toc0_)"
   ]
  },
  {
   "attachments": {},
   "cell_type": "markdown",
   "metadata": {},
   "source": [
    "Congratulations! You have successfully set up Python, VS Code with Jupyter Lab, and Conda as the package manager. In this section, we covered the following:\n"
   ]
  },
  {
   "attachments": {},
   "cell_type": "markdown",
   "metadata": {},
   "source": [
    "- Installing Python using Conda and setting up a Conda environment.\n",
    "- Configuring VS Code with the Python extension and Jupyter Lab.\n",
    "- Exploring the advantages of Jupyter Lab over Jupyter Notebook.\n"
   ]
  },
  {
   "attachments": {},
   "cell_type": "markdown",
   "metadata": {},
   "source": [
    "By completing these steps, you now have a powerful development environment that allows you to write, execute, and document your Python code efficiently. You are ready to dive into the exciting world of Python programming!\n"
   ]
  },
  {
   "attachments": {},
   "cell_type": "markdown",
   "metadata": {},
   "source": [
    "In the next section of our course, we will provide a crash course on essential Python concepts. This crash course will cover the fundamental concepts and syntax of Python, ensuring that you have a solid foundation before we delve into more advanced topics."
   ]
  },
  {
   "attachments": {},
   "cell_type": "markdown",
   "metadata": {},
   "source": [
    "Once again, congratulations on completing the setup! Let's continue the journey and explore the wonders of Python programming together.\n"
   ]
  }
 ],
 "metadata": {
  "kernelspec": {
   "display_name": "Python 3 (ipykernel)",
   "language": "python",
   "name": "python3"
  },
  "language_info": {
   "codemirror_mode": {
    "name": "ipython",
    "version": 3
   },
   "file_extension": ".py",
   "mimetype": "text/x-python",
   "name": "python",
   "nbconvert_exporter": "python",
   "pygments_lexer": "ipython3",
   "version": "3.11.7"
  }
 },
 "nbformat": 4,
 "nbformat_minor": 4
}
